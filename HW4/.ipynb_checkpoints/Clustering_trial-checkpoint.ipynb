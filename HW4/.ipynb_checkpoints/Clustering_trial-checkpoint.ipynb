{
 "cells": [
  {
   "cell_type": "code",
   "execution_count": 17,
   "metadata": {
    "collapsed": false
   },
   "outputs": [],
   "source": [
    "## Trying different clustering methods on the extracted feature arrays\n",
    "## More note can be found in the trial and test note.docx\n",
    "\n",
    "\n",
    "from sklearn.decomposition import TruncatedSVD\n",
    "from sklearn.preprocessing import Normalizer\n",
    "from sklearn.cluster import KMeans, MiniBatchKMeans\n",
    "from sklearn.pipeline import make_pipeline\n",
    "from time import time\n",
    "\n",
    "import pandas as pd\n",
    "import numpy as np\n",
    "\n",
    "\n",
    "#import vectorized feature arrays for acts and scenes\n",
    "act_Vect = pd.read_csv('VectorizedFeatures/AllComplied/AllAct_Features_Vectorize.txt',sep=',',header = None)\n",
    "scene_Vect = pd.read_csv('VectorizedFeatures/AllComplied/AllScene_Features_Vectorize.txt',sep=',',header = None)\n",
    "\n",
    "#import LSA reduced vectorized feature arrays for acts and scenes\n",
    "act_Vect_LSA = pd.read_csv('LSA_VectorizedFeatures/Act_Features_Vectorize_LSA.txt',sep=',',header = None, \\\n",
    "                        dtype={'0': np.float64} )\n",
    "scene_Vect_LSA = pd.read_csv('LSA_VectorizedFeatures/Scene_Features_Vectorize_LSA.txt',sep=',',header = None, \\\n",
    "                        dtype={'0': np.float64} )\n",
    "\n",
    "#     explained_variance = svd.explained_variance_ratio_.sum()\n",
    "#     print(explained_variance)\n",
    "\n"
   ]
  },
  {
   "cell_type": "code",
   "execution_count": 18,
   "metadata": {
    "collapsed": false
   },
   "outputs": [
    {
     "name": "stdout",
     "output_type": "stream",
     "text": [
      "Clustering acts sparse data with KMeans(copy_x=True, init='k-means++', max_iter=100, n_clusters=37, n_init=1,\n",
      "    n_jobs=1, precompute_distances='auto', random_state=None, tol=0.0001,\n",
      "    verbose=0)\n",
      "done in 0.372s\n",
      "[ 7  7  7  7  7  1  1  1  1  1  3  3  3  3  3  7  7  7  7  7 11 11 11 11  7\n",
      " 35 35 35 35 35  8  8  8  8  8 19 19 19 19 19 20 20 20 20 20 16 16 16 16 16\n",
      " 23 23 23 23 23 17 17 17 32 32 32 21 21 21 21 21  4  4  4  4  4  9  9  9  9\n",
      "  9 27 27 27 27 27 15 15 15 15 15 36 36 36 36 36 26 26 26 26 26 26 29 29 34\n",
      " 34 34 33 33 33 33 33  2  2  2  2  2  2  2 25 25 25 13 13 13 13 13  7 29 36\n",
      " 36 36  6  6  6  6  6 25 25 25  6  6 18 18 18 18 18 30 30 30 30 30 28 28 28\n",
      " 28 28  5  5  5  5  5 22 22 22 22 22  0  0  0 31 31 22 14 14 14 14 24 24 24\n",
      " 24 24 12 12 12 12 12 10 10 10 10 10]\n",
      "Clustering scene sparse data with KMeans(copy_x=True, init='k-means++', max_iter=100, n_clusters=37, n_init=1,\n",
      "    n_jobs=1, precompute_distances='auto', random_state=None, tol=0.0001,\n",
      "    verbose=0)\n",
      "[27 27 27  1  1  1  1  1 27 31 31 31 31 31 31 31 31 31 31 31 27 27 27 27 27\n",
      " 27 28 28 28 28 28 28 28 27 18 18 18 18 18 18 18 18 18 18 18 27 17 19 17 17\n",
      " 17 17 17 17 17 17 10 10 10 10 10 10 10 10 10 21 10 10 10 10 10 10 10 10 10\n",
      " 10 10 10 10 10 10 27 29 27 29 27 27 27 29 27 27 27 27 27 27 27 27 27 27 27\n",
      " 27 27 27 27 27 27 27  5  5  5  5  5  5  5  5  5  5  5  5  5  5  5  5  5  5\n",
      "  5  5  5  5  5 27 27 27 35 35 35 35 35 35 35 35 27 27 27 27 27 27 27 27 18\n",
      " 18 18 18 18 18 18 18 18 27 27 27 27 27 27 18 18 18 18 18 27 27 27 27 27 27\n",
      " 27 27 27 27 27 27 27 27 27 27 27 27 27 10 10 10 10 10 27 27 27 27  2  2  2\n",
      "  2  2  2  2  2  2  2  2  2 27 27 27 27 27 27 27 27 27 12 12 12 12 12 12 27\n",
      " 27 12 12 12 12 12 12 12 12 12 12 12 12 12 12 12 12 27 27 13 13 13 27 27 13\n",
      " 13 13 13 13 13 13 13 13 13 27  8  8  8  8  8  8  8  8  8  8  8  8 27  8  8\n",
      "  8  8  8  8  8 27 27 27 27 27 27 27 27 27 27 27 10 10 10 16 27 19 27 27 27\n",
      " 27 27 27 19 19 19 19 16 19 19 19 19 27 24 24 24 24 24 24 16 24 19 19 19 19\n",
      " 19 24 24 24 24 24 27 27 16 16 27 16 16 16 16 27 29 29 29 29 29 29 29 16 16\n",
      " 16 16 16 16 16 16 16 27 16 16 33 33 33 33 33 33 33 33 33 33 33 33 33 33 33\n",
      "  6  6  6  6  6  6  6 16 16 23 23 23 23 23 23 23 16 16 16 16 23 23 23 23 23\n",
      " 23 23 23 23 23 23 23 23  7  7  7  7  7  7  7  7  7  7  7  7  7 16  3  3  3\n",
      "  3  3  3  3  3  3  3  3  3  3  3  3  3  3 25 25 25 25 25 25 25 25 25 25 25\n",
      " 25 25 16 16 25 25 25 27 27  9  9  9  9 27  9  9 33 33 33 33 33 33 33 22 22\n",
      " 22 22 19 19 19 19 27 22 22 22 22 22 19 19 19 19 19  9  9  9  9  9  9  9 19\n",
      "  9  9  9  9  9  9  9  9 22 22 22 22 22 22 22 22 22  4  4  4  4  4  4  4  4\n",
      "  4  4  4  4  4  4  4  4  4  4  4  4  4  4  4  4  4 20 20 20 20 20 20 20 20\n",
      " 20 20 20 20 20 20 20  4  4 15 15 15 15 15 15 15 15 15 15 15 15 15 15 15 15\n",
      " 27 15 15 15 15 15 15 15 15 15 15 15 15 14 14 14 14 14 14 14 14 14 14 14 14\n",
      " 14 14 14 14 14 14 14 14 27 21 21 21 21 21 21 21 21 21 21 21 21 21 21 21 21\n",
      " 21 27 27 27 27 27 27 27 27 27 36 36 36 36 36 36 36 36 36 36 36 36 36 36 27\n",
      " 27 27 27 32 32 32 32 32 32 27 34 34 34 34 34 34 34 34 34 34 34 34  0  0  0\n",
      "  0  0  0  0  0 26 26 26 26 26 26 26 26 26 26 26 26 26 26 26 27 27 27 27 27\n",
      " 27 11 11 11 11 11 11 11 11 11 11 11 11 11 11 11 11 11 27 11 11 30 30 30 30\n",
      " 30 30 30 30 30 30 30 30 30 30 30 30 30  9  9  9  9  9  9  9  9  9  9  9  9\n",
      "  9  9]\n",
      "done in 1.079s\n"
     ]
    }
   ],
   "source": [
    "### K cluster the 5000 feature vectorized array, much better clustering than LSA reduced ones\n",
    "true_k = 37\n",
    "km = KMeans(n_clusters=true_k, init='k-means++', max_iter=100, n_init=1)\n",
    "\n",
    "print(\"Clustering acts sparse data with %s\" % km)\n",
    "t0 = time()\n",
    "km.fit(act_Vect)\n",
    "print(\"done in %0.3fs\" % (time() - t0))\n",
    "print(km.labels_)\n",
    "\n",
    "print(\"Clustering scene sparse data with %s\" % km)\n",
    "t0 = time()\n",
    "km.fit(scene_Vect)\n",
    "print(km.labels_)\n",
    "print(\"done in %0.3fs\" % (time() - t0))"
   ]
  },
  {
   "cell_type": "code",
   "execution_count": 19,
   "metadata": {
    "collapsed": false
   },
   "outputs": [
    {
     "name": "stdout",
     "output_type": "stream",
     "text": [
      "Clustering acts sparse LSA reduced data with KMeans(copy_x=True, init='k-means++', max_iter=100, n_clusters=37, n_init=1,\n",
      "    n_jobs=1, precompute_distances='auto', random_state=None, tol=0.0001,\n",
      "    verbose=0)\n",
      "done in 0.014s\n",
      "[30 17  4 27 17  6  4 17 12 24 24  3 23 32 32 23 29 17 17  4  4 17 17 35 35\n",
      "  6 29 35 35 18 35 36 21 21 36 36  0 24 12  6 35  0 33 12 12 18  0  0 28 24\n",
      " 18 20  2  4 17  4  4  0 21 28 24 12 20 30  4 27 30 33 18 17 17 29  8 15 15\n",
      " 36 24 33  0 24 33 24  6 29 27 17 17  5  3 22 16 32  3 10 30 11 11 22 31 19\n",
      "  5 34  1 19 19 25  7 25 14  7  1 19  9 14 31  7 13 14 23 23 11 16 16 26 11\n",
      " 16 26 26  1  1  1 25 25  5  9  9  1  7 33 33 12  6 35 18 12 12  6 17  2  4\n",
      " 29  4 27  8 21  8 28 18 30  2 30 20 20 30 27 27  2 30 30  6 24 24 33 18 35\n",
      " 29  4 29 17 17 17  2  2 10 10 10 20 30]\n",
      "Clustering scene sparse data LSA reduced with KMeans(copy_x=True, init='k-means++', max_iter=100, n_clusters=37, n_init=1,\n",
      "    n_jobs=1, precompute_distances='auto', random_state=None, tol=0.0001,\n",
      "    verbose=0)\n",
      "[23 12 12 24 24  0 23 12 12 12 12 27 23 23 12 24 24 24 19 19 19 19 36 36 19\n",
      " 19 12 24 24 23 12 24 36 19 36 19  5 18 18 18  7 32  3 18  7  3  3  7  5  5\n",
      "  5 35  9 35 23 27 27 35 27 24 12 24 36  0  0 23 19  7 22 26  3  7  7  7  7\n",
      " 19  0  0  0  7 19 36 36  0 24 12 12  0 23  0  0 23  0 24 24 24 24 13 18 18\n",
      "  7 12 36  7  7  7  7  7  7 12  4  4 26 26 32 32  3 33  4 26 26 26  8 10 33\n",
      "  4  4 26 26 26 26  4 13 18  7 19  3 18 18  3  3 18 18 18 18 19 19 19 19 24\n",
      "  0 18 19 19 19 19 18 19 19 36 36  7  7  7  7  7  7  3  3 18 18 18 36 36 36\n",
      " 36 36 19 23  5 27  5  5  0  0 24 12 12  0  0  0 36  7 19 19 19 12 12  0 12\n",
      "  3  3  7 18 18 18  3  7 18  7  7 19  0 23 24  0 19 24  0 12 23  7  3  7  0\n",
      " 24 24 23 24  0  0 24 24 24 24 18  7 19  7 19 19 19 19 19 19 24 12 13  3  3\n",
      " 32  3 26 32 13 32 32 32 32 18  3  3 19 18 18  7 26 13  3  3  3  3  3 36 19\n",
      " 24  7  7 18 26 26 13  7 36 36 36  0 24 36  5 12  5 19 36 12 23 12  6 35 17\n",
      "  0 24 23 23  5 27 17 35 17 34 15 15 28  2 28 35 16 16 27  5  5 12 15 23 28\n",
      " 28 34  2 28 32 27  5  5  5  7  9  6  6 23 17  9 34 34  2 16  9 28 28 28 34\n",
      " 34 14 20 20  6  6  6 20 20 20 12  6  6 14 15 15 28  2  2 28 34 34  2 28 21\n",
      " 14 20 20 30 14 21 21 14 20 20 25  1  6 15 15 25 30 21 21  6 30 21 20 15 15\n",
      " 15  2 34 17 28 28 28  2  2 28 28 20  6  6 25 25  1 21 14 20 20 20  6  6 31\n",
      " 25 25 11 11 11 11 11 31 31 31 11 31 31  1  1 30 30  9 28  2 34 34 17  2 17\n",
      " 17  5  9 17 16 28 28  2 17 17 27 17 35 35 16 16  0  5 27 35 16 16 35 35 35\n",
      " 16 15 15 15 15  6 15 15 15  6 15  6 15  6 34  6  6  6 15 15  6  2  2  2 30\n",
      " 21 14 14  2 17 17 34 34 34 34 17  6  6 20 20 25 21  6 20  6 22  4 26 26 26\n",
      "  8 22 10 10 33 33  4  4  8 22 10 10 33 33 33 33 33  4  4  4 29 33 10 33 33\n",
      " 33 33  4  4  4  4  4  4 26  4  4 26 32 13 32 32 32  3  3  3  3  3 32 32  3\n",
      " 18  7  7  7  7  3 18  7 18 18 32  3  7  7  7  7 12 23 23 12 12  0  0  0  0\n",
      " 24 24  0 27 27  5 12 12 24 36 12 26 10 33  4 33 33 33 10 22 22  3  3 18 26\n",
      " 26 13 13 13 16 27  5 23 23  0 24 24 24 27 24 12 23 23 23  5 24 23 23 23 23\n",
      " 12 12  5  5  5 27 16  5  5 23 23 12  0 36 36 36 24 24 12 24 24 12  0  0 12\n",
      " 18  7 36 36 36 36  0 24  3  7 12 18 18  3 26 13  7  7  3 18 18  3 19  0 19\n",
      " 19 19 19 19  7 36  0 19 19 19 19 12  0 24 24 24 24 36 36 19 36 24  0 24 36\n",
      "  0 18 19 24 24 24 24 24 24  0  0 12  7  7  7 36 12 24 24 23 23 23 23 12 23\n",
      " 24 24 23 12 12]\n",
      "done in 0.066s\n"
     ]
    }
   ],
   "source": [
    "### K cluster the LSA reduced feature vectorized array\n",
    "\n",
    "print(\"Clustering acts sparse LSA reduced data with %s\" % km)\n",
    "t0 = time()\n",
    "km.fit(act_Vect_LSA)\n",
    "print(\"done in %0.3fs\" % (time() - t0))\n",
    "print(km.labels_)\n",
    "\n",
    "print(\"Clustering scene sparse data LSA reduced with %s\" % km)\n",
    "t0 = time()\n",
    "km.fit(scene_Vect_LSA)\n",
    "print(km.labels_)\n",
    "print(\"done in %0.3fs\" % (time() - t0))"
   ]
  },
  {
   "cell_type": "code",
   "execution_count": null,
   "metadata": {
    "collapsed": true
   },
   "outputs": [],
   "source": []
  }
 ],
 "metadata": {
  "kernelspec": {
   "display_name": "Python 3",
   "language": "python",
   "name": "python3"
  },
  "language_info": {
   "codemirror_mode": {
    "name": "ipython",
    "version": 3
   },
   "file_extension": ".py",
   "mimetype": "text/x-python",
   "name": "python",
   "nbconvert_exporter": "python",
   "pygments_lexer": "ipython3",
   "version": "3.4.3"
  }
 },
 "nbformat": 4,
 "nbformat_minor": 0
}
