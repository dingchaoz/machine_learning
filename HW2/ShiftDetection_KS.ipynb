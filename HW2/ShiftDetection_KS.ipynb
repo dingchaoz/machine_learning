{
 "cells": [
  {
   "cell_type": "code",
   "execution_count": 1,
   "metadata": {},
   "outputs": [],
   "source": [
    "# import libraries\n",
    "%matplotlib inline\n",
    "import numpy as np\n",
    "import matplotlib.pyplot as plt\n",
    "import scipy.stats as stats"
   ]
  },
  {
   "cell_type": "code",
   "execution_count": 35,
   "metadata": {},
   "outputs": [],
   "source": [
    "def detectKS(filename, w_size=15, a=0.01):\n",
    "\n",
    "    with open(filename) as f: # Open file as f\n",
    "        data = f.read().splitlines()  # Split file line by line and put lines in to var \"lines\"\n",
    "    f.close() # Close file\n",
    "\n",
    "    # loop to detect change\n",
    "    for i in range(len(data)):\n",
    "        if i - w_size >= w_size:\n",
    "            W0 = data[i - (w_size * 2):i - w_size] # set reference window\n",
    "            W1 = data[i - w_size: i] # set current window from current location minus w_size\n",
    "\n",
    "            # find komogorov-smirnov\n",
    "            ks = stats.ks_2samp(W0, W1)\n",
    "            p = ks[1]\n",
    "\n",
    "            # reject H0 and conclude that there is a change at n\n",
    "            if p < a:\n",
    "                return(\"Change detected at \" + str(i) + \" with p-value = \" + str(p))\n",
    "        else:\n",
    "            pass\n",
    "\n",
    "    return(\"No change\")"
   ]
  },
  {
   "cell_type": "code",
   "execution_count": 36,
   "metadata": {},
   "outputs": [
    {
     "name": "stdout",
     "output_type": "stream",
     "text": [
      "Change detected at 52 with p-value = 0.00471524000158\n",
      "Change detected at 96 with p-value = 0.00471524000158\n",
      "No change\n",
      "No change\n",
      "No change\n",
      "Change detected at 72 with p-value = 0.00471524000158\n"
     ]
    }
   ],
   "source": [
    "## Test with files\n",
    "\n",
    "print(detectKS('posShiftUpMean_70.txt'))\n",
    "print(detectKS('posShiftDownMean_90.txt'))\n",
    "print(detectKS('negflata.txt'))\n",
    "print(detectKS('negflatb.txt'))\n",
    "print(detectKS('posShiftUpVar_60.txt'))\n",
    "print(detectKS('posShiftUpVar_70.txt'))"
   ]
  },
  {
   "cell_type": "code",
   "execution_count": null,
   "metadata": {},
   "outputs": [],
   "source": [
    ""
   ]
  }
 ],
 "metadata": {
  "kernelspec": {
   "display_name": "Python 3",
   "language": "python",
   "name": "python3"
  },
  "language_info": {
   "codemirror_mode": {
    "name": "ipython",
    "version": 3.0
   },
   "file_extension": ".py",
   "mimetype": "text/x-python",
   "name": "python",
   "nbconvert_exporter": "python",
   "pygments_lexer": "ipython3",
   "version": "3.4.3"
  }
 },
 "nbformat": 4,
 "nbformat_minor": 0
}
