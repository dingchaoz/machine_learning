{
 "cells": [
  {
   "cell_type": "code",
   "execution_count": 1,
   "metadata": {
    "collapsed": true
   },
   "outputs": [],
   "source": [
    "# import libraries\n",
    "%matplotlib inline\n",
    "import numpy as np\n",
    "import matplotlib.pyplot as plt"
   ]
  },
  {
   "cell_type": "markdown",
   "metadata": {},
   "source": [
    "# Detect if mean or var shifts for continous stream data\n",
    "Use Hawkins CUSUM Method described in http://rmgsc.cr.usgs.gov/outgoing/threshold_articles/Hawkins_Zamba2005b.pdf\n",
    "Tunable Parameters:\n",
    " k : Allowance value, a threshold that signals a possible shift starts at the current position\n",
    " H : If CUSUM value goes beyond this value, conclude a shift has occured and the shift starts at the last point whose CUSUM is   larger than k Allowance value"
   ]
  },
  {
   "cell_type": "code",
   "execution_count": 52,
   "metadata": {
    "collapsed": false
   },
   "outputs": [
    {
     "name": "stdout",
     "output_type": "stream",
     "text": [
      "Converted variable values are[0.8, 0.7333333333333333, 0.6666666666666666, 0.7333333333333333, 0.5333333333333333, 0.6666666666666666, 0.7333333333333333, 0.6666666666666666, 0.7333333333333333, 0.6666666666666666, 0.6, 0.7333333333333333, 0.8, 0.6666666666666666, 0.4, 0.8, 0.8, 0.6666666666666666, 0.6, 0.7333333333333333]\n",
      "mean is in P chart method:0.7333333333333333\n",
      "UCL is in P chart method: 1.07587286876\n",
      "LCL is in P chart method: 0.390793797902\n",
      "mean of 13 sample points is0.6888888888888888\n",
      "mean of 5 sample points is0.7333333333333333\n"
     ]
    },
    {
     "data": {
      "image/png": "[encoded data removed]",
      "text/plain": [
       "<matplotlib.figure.Figure at 0x77dd550>"
      ]
     },
     "metadata": {},
     "output_type": "display_data"
    }
   ],
   "source": [
    "#### Function to get detect concept change for attributes data\n",
    "#### Assign char a,b,c to value 0,1,2 seperately for all data points first\n",
    "#### Then, group data samples into sub group first,with each group has n data points,calculate the average of each subgroup\n",
    "#### Therefore we get a new continous data array named sample\n",
    "#### Plot the sample and a shift can be seen obviously\n",
    "#### To-do: Experiment using p chart, or Shewart chart or CUSUM or other methods to detect the change position\n",
    "#### and in Douglas C. Montgomery Statistical Quality Control 6th Edition Page 400-Page 417 Chapter Time-Weighted Control Charts\n",
    "#### Tunable Parameters:\n",
    "#### n : subgroup sample size n \n",
    "#### t: The first t data points be selected as baseline\n",
    "## posTriple2_160,posTriple_175, posTripleDouble_175, negTriple,negWithRare,negBinary\n",
    "\n",
    "\n",
    "\n",
    "with open('negBinary.txt') as f: # Open file as f\n",
    "    lines = f.read().splitlines()  # Split file line by line and put lines in to var \"lines\"\n",
    "f.close() # Close file\n",
    "\n",
    "data = [] # Initiate an array \"data\" to hold original attributes data \n",
    "for x in lines:\n",
    "    if x == 'a':    # Convert char a to number 0 and append to data array\n",
    "        data.append(0) \n",
    "    if x == 'b':    # Convert char b to number 1 and append to data array\n",
    "        data.append(1)\n",
    "    if x == 'c':    # Convert char c to number 2 and append to data array\n",
    "        data.append(2)\n",
    "        \n",
    "#k = 49 # Tunable parameter to extract baseline data\n",
    "k = len(data) # Length of original data\n",
    "baseline = data[:k] # Extrat the first k samples as baseline data\n",
    "n = 14 # Tunable parameter to group each n+1 data points into a new sample point\n",
    "m_baseline = (k+1)/(n+1) # Number of samples in baseline data\n",
    "sample = [] # A new array to hold continous data converted from attributes data\n",
    "#t = \n",
    "## Fill in the new sample data array converted from original attributes data\n",
    "for i in range(int(m_baseline)):\n",
    "    if i == 0:\n",
    "        sample.append(sum(data[:n])/(n+1))   # Append the average values of each n+1 data points\n",
    "    else:\n",
    "        sample.append(sum(data[i*n+1:(i+1)*n])/(n+1))  # Append the average values of each n+1 data points\n",
    "\n",
    "print(\"Converted variable values are\" + str(sample))\n",
    "\n",
    "## Calculate control limits using P chart method\n",
    "m_baseline = sum(sample[:4])/len(sample[:4]) # Get the mean of baseline data\n",
    "UCL = m_baseline + 3*np.sqrt(m_baseline*(1-m_baseline)/(n+1)) # Upper control limit\n",
    "LCL = m_baseline - 3*np.sqrt(m_baseline*(1-m_baseline)/(n+1)) # Lower control limit\n",
    "\n",
    "\n",
    "## Calculate control limits using Shewart chart method\n",
    "m_baseline = sum(sample[:4])/len(sample[:4]) # Get the mean of baseline data\n",
    "UCL = m_baseline + 3*np.sqrt(m_baseline*(1-m_baseline)/(n+1)) # Upper control limit\n",
    "LCL = m_baseline - 3*np.sqrt(m_baseline*(1-m_baseline)/(n+1)) # Lower control limit\n",
    "\n",
    "print(\"mean is in P chart method:\" + str(m_baseline))\n",
    "print(\"UCL is in P chart method: \" + str(UCL))\n",
    "print(\"LCL is in P chart method: \" + str(LCL))\n",
    "\n",
    "print(\"mean of 13 sample points is\"  + str(sum(sample[:12])/12))\n",
    "print(\"mean of 5 sample points is\"  + str(sum(sample[:4])/4))\n",
    "plt.plot(sample)\n",
    "plt.plot([0, len(sample)], [UCL, UCL], 'r--', color='r')\n",
    "plt.plot([0, len(sample)], [LCL, LCL], 'r--', color='r')\n",
    "plt.text(1, UCL - 0.05, 'UCL',color='r')\n",
    "plt.text(1, LCL + 0.05, 'LCL',color='r')\n",
    "plt.title(\"Converted Variable Plot from Original Attributes Data\")\n",
    "plt.show()\n",
    "\n",
    "#return\n",
    "\n",
    "\n",
    "  "
   ]
  },
  {
   "cell_type": "code",
   "execution_count": null,
   "metadata": {
    "collapsed": true
   },
   "outputs": [],
   "source": []
  }
 ],
 "metadata": {
  "kernelspec": {
   "display_name": "Python 3",
   "language": "python",
   "name": "python3"
  },
  "language_info": {
   "codemirror_mode": {
    "name": "ipython",
    "version": 3
   },
   "file_extension": ".py",
   "mimetype": "text/x-python",
   "name": "python",
   "nbconvert_exporter": "python",
   "pygments_lexer": "ipython3",
   "version": "3.4.3"
  }
 },
 "nbformat": 4,
 "nbformat_minor": 0
}
