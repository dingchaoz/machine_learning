{
 "cells": [
  {
   "cell_type": "code",
   "execution_count": 2,
   "metadata": {
    "collapsed": true
   },
   "outputs": [],
   "source": [
    "# import libraries\n",
    "%matplotlib inline\n",
    "import numpy as np\n",
    "import matplotlib.pyplot as plt"
   ]
  },
  {
   "cell_type": "markdown",
   "metadata": {},
   "source": [
    "# Detect concept change for attributes stream data\n"
   ]
  },
  {
   "cell_type": "code",
   "execution_count": 3,
   "metadata": {
    "collapsed": false
   },
   "outputs": [],
   "source": [
    "#### Function to get detect concept change for attributes data\n",
    "#### Assign char a,b,c to uniformly distributed value seperately for all data points first\n",
    "#### Then, group data samples into sub group first,with each group has n data points,calculate the average of each subgroup\n",
    "#### Therefore we get a new continous data array named sample\n",
    "#### Plot the sample and a shift can be seen obviously\n",
    "#### To-do: Experiment using p chart, or Shewart chart or CUSUM or other methods to detect the change position\n",
    "#### and in Douglas C. Montgomery Statistical Quality Control 6th Edition Page 400-Page 417 Chapter Time-Weighted Control Charts\n",
    "#### Tunable Parameters:\n",
    "#### n : subgroup sample size n \n",
    "#### t: The first t data points be selected as baseline\n",
    "## posTriple2_160,posTriple_175, posTripleDouble_175, negTriple,negWithRare,negBinary Verified\n",
    "\n",
    "def shiftDetectAtt(lines):\n",
    "    \n",
    "    np.random.seed(123456789)\n",
    "\n",
    "    data = [] # Initiate an array \"data\" to hold original attributes data \n",
    "    for x in lines:\n",
    "        if x == 'a':    #  # Convert char a to a random number from 0 to 1 and append to data array\n",
    "            #data.append(0) \n",
    "            data.append(np.random.uniform(0,1,1))\n",
    "        if x == 'b':     # Convert char b to a random number from 1 to 2 and append to data array\n",
    "            #data.append(1)\n",
    "            data.append(np.random.uniform(1,2,1))\n",
    "        if x == 'c':    # Convert char c to a random number from 2 to 3 and append to data array\n",
    "            #data.append(2)\n",
    "            data.append(np.random.uniform(2,3,1))\n",
    "        \n",
    "\n",
    "    n = 14 # Tunable parameter to group each n+1 data points into a new sample point\n",
    "    m = len(data)/(n+1) # Number of samples converted from original data\n",
    "    sample = [] # A new array to hold continous data converted from attributes data\n",
    "\n",
    "    ## Fill in the new sample data array converted from original attributes data\n",
    "    for i in range(int(m)):\n",
    "        if i == 0:\n",
    "            sample.append(sum(data[:n])/(n+1))   # Append the average values of each n+1 data points\n",
    "        else:\n",
    "            sample.append(sum(data[i*n+1:(i+1)*n])/(n+1))  # Append the average values of each n+1 data points\n",
    "\n",
    "    print(\"Converted variable values are\" + str(sample))\n",
    "\n",
    "    t = 4 # Choose the first t+1 numbers of sample points as baseline\n",
    "\n",
    "    ## Calculate control limits using P chart method\n",
    "    mean = np.average(sample[:t]) # Get the mean of baseline data\n",
    "    sd = np.std(sample[:t])\n",
    "    #UCL = mean + 3*np.sqrt(mean*(1-mean)/(n+1)) # Upper control limit in P chart, does not work for negtriple, tripledouble\n",
    "    #LCL = mean - 3*np.sqrt(mean*(1-mean)/(n+1)) # Lower control limit in P chart,does not work for negtriple, tripledouble\n",
    "    UCL = mean + 3*sd # Upper control limit in Shewart method\n",
    "    LCL = mean - 3*sd # Lower control limit in Shewart method\n",
    "\n",
    "\n",
    "    print(\"mean is in Shewart method:\" + str(mean)) # Print the mean value of the control chart\n",
    "    print(\"UCL is in Shewart method: \" + str(UCL))  # Print the UCL value of the control chart\n",
    "    print(\"LCL is in Shewart method: \" + str(LCL))  # Print the LCL value of the control chart\n",
    "    print(str(range(t+1,len(sample))))\n",
    "    print(str(sample[5]))\n",
    "    \n",
    "    #N = [] # Array to record outside threhold points index in a trend\n",
    "    n = 0 # index starts from 0 which means not a point outsidte threshold\n",
    "    ## Detect if there is concept change occurs after the baseline sample points\n",
    "    for i in range(t+1,len(sample)):\n",
    "        if (sample[i] >= UCL) | (sample[i] <= LCL): # If there is a point outside threshold\n",
    "            n = n + 1\n",
    "            #N.append(n)\n",
    "            if n == 3: # If it is the consecutive 3rd point that is outside threshold\n",
    "                print(\"Concept change occured at position \" + str((i-2)*(n+1)) + \"of original attributes data\")\n",
    "                print(\"That corresponds to the \"+str(i-2)+\"th position on the converted data graph below\")\n",
    "                print(\"The change occur sample value is\"+str(sample[i-2]))\n",
    "                plt.plot(sample) # Plot the converted variable smaple data \n",
    "                plt.plot([0, len(sample)], [UCL, UCL], 'r--', color='r')  # Plot the Upper Control Limit\n",
    "                plt.plot([0, len(sample)], [LCL, LCL], 'r--', color='r') # Plot the Lower Control LIMIT\n",
    "                plt.text(1, UCL - 0.05, 'UCL',color='r') # Label out UCL \n",
    "                plt.text(1, LCL + 0.05, 'LCL',color='r') # Label out LCL \n",
    "                plt.title(\"Converted Variable Plot from Original Attributes Data,Change Ocurred\")\n",
    "                plt.show()\n",
    "                return\n",
    "        else:\n",
    "            n = 0\n",
    "        \n",
    "            \n",
    "    \n",
    "    print(\"No Change\")\n",
    "    plt.plot(sample) # Plot the converted variable smaple data \n",
    "    plt.plot([0, len(sample)], [UCL, UCL], 'r--', color='r')  # Plot the Upper Control Limit\n",
    "    plt.plot([0, len(sample)], [LCL, LCL], 'r--', color='r') # Plot the Lower Control LIMIT\n",
    "    plt.text(1, UCL - 0.05, 'UCL',color='r') # Label out UCL \n",
    "    plt.text(1, LCL + 0.05, 'LCL',color='r') # Label out LCL \n",
    "    plt.title(\"Converted Variable Plot from Original Attributes Data\")\n",
    "    plt.show()\n",
    "\n",
    "    return\n",
    "\n",
    "\n",
    "\n",
    "\n",
    "  "
   ]
  },
  {
   "cell_type": "code",
   "execution_count": 25,
   "metadata": {
    "collapsed": false
   },
   "outputs": [
    {
     "name": "stdout",
     "output_type": "stream",
     "text": [
      "['a', 'c', 'a', 'a', 'a', 'c', 'c', 'b', 'b', 'a', 'c', 'a', 'b', 'a', 'b', 'a', 'c', 'c', 'c', 'a', 'c', 'c', 'b', 'a', 'c', 'b', 'b', 'c', 'b', 'b', 'b', 'c', 'c', 'a', 'c', 'c', 'a', 'b', 'a', 'b', 'b', 'b', 'c', 'c', 'a', 'c', 'b', 'c', 'a', 'c', 'b', 'b', 'c', 'c', 'a', 'c', 'c', 'a', 'a', 'c', 'a', 'b', 'b', 'a', 'b', 'a', 'c', 'c', 'b', 'c', 'a', 'c', 'c', 'b', 'b', 'c', 'c', 'a', 'c', 'c', 'c', 'a', 'c', 'a', 'a', 'b', 'b', 'a', 'c', 'b', 'c', 'b', 'a', 'c', 'c', 'c', 'c', 'c', 'b', 'b', 'b', 'b', 'b', 'a', 'a', 'a', 'c', 'c', 'c', 'b', 'c', 'b', 'b', 'b', 'c', 'c', 'a', 'a', 'c', 'c', 'b', 'c', 'b', 'c', 'b', 'a', 'b', 'b', 'c', 'c', 'b', 'b', 'a', 'a', 'c', 'a', 'c', 'c', 'a', 'c', 'c', 'c', 'c', 'c', 'b', 'b', 'a', 'b', 'c', 'c', 'c', 'a', 'c', 'c', 'a', 'c', 'b', 'b', 'b', 'b', 'c', 'b', 'a', 'b', 'b', 'b', 'b', 'b', 'a', 'b', 'b', 'b', 'c', 'b', 'a', 'b', 'b', 'b', 'b', 'b', 'b', 'b', 'a', 'b', 'a', 'b', 'b', 'b', 'a', 'a', 'a', 'b', 'b', 'a', 'b', 'b', 'b', 'a', 'b', 'b', 'b', 'b', 'b', 'c', 'a', 'a', 'b', 'b', 'c', 'b', 'b', 'b', 'b', 'c', 'b', 'a', 'a', 'a', 'a', 'c', 'a', 'b', 'a', 'b', 'b', 'b', 'b', 'a', 'a', 'b', 'a', 'b', 'b', 'b', 'b', 'a', 'b', 'a', 'a', 'a', 'a', 'b', 'b', 'b', 'a', 'a', 'c', 'a', 'b', 'a', 'c', 'b', 'b', 'b', 'b', 'b', 'a', 'b', 'a', 'a', 'b', 'b', 'b', 'a', 'a', 'b', 'b', 'a', 'a', 'b', 'b', 'b', 'b', 'b', 'a', 'c', 'b', 'b', 'a', 'b', 'b', 'b', 'c', 'a', 'a', 'a', 'b', 'a', 'a', 'b', 'b', 'b', 'b', 'a', 'b', 'b', 'a', 'b', 'b', 'b', 'b', 'b', 'a', 'c', 'a', 'b', 'a', 'b', 'b', 'a', 'c', 'b', 'b', 'b', 'b', 'a', 'c', 'b', 'b', 'a']\n",
      "Converted variable values are[array([ 1.26942383]), array([ 1.52167605]), array([ 1.49737797]), array([ 1.56218363]), array([ 1.14734628]), array([ 1.60795232]), array([ 1.57618581]), array([ 1.43356638]), array([ 1.49019293]), array([ 1.42323828]), array([ 1.64753786]), array([ 1.41766023]), array([ 1.16041289]), array([ 0.81785645]), array([ 1.20462383]), array([ 0.9366467]), array([ 0.94507273]), array([ 1.05145783]), array([ 0.94015406]), array([ 0.92637229]), array([ 1.04375064])]\n",
      "mean is in Shewart method:1.4626653702\n",
      "UCL is in Shewart method: 1.8044988922\n",
      "LCL is in Shewart method: 1.1208318482\n",
      "range(5, 21)\n",
      "[ 1.60795232]\n",
      "Concept change occured at position 60of original attributes data\n",
      "That corresponds to the 15th position on the converted data graph below\n",
      "The change occur sample value is[ 0.9366467]\n"
     ]
    },
    {
     "data": {
      "image/png": "[encoded data removed]",
      "text/plain": [
       "<matplotlib.figure.Figure at 0x7797940>"
      ]
     },
     "metadata": {},
     "output_type": "display_data"
    }
   ],
   "source": [
    "    with open('posTriple2_160.txt') as f: # Open file as f\n",
    "        lines = f.read().splitlines()  # Split file line by line and put lines in to var \"lines\"\n",
    "    f.close() # Close file\n",
    "    try:\n",
    "        data = [float(i) for i in lines] # For variable dataa stream,convert data string to float if convertable\n",
    "    except: \n",
    "        data = lines  # Otherwise for attribute data, no convert needed\n",
    "\n",
    "    shiftDetectAtt(lines)\n",
    " \n",
    "    "
   ]
  },
  {
   "cell_type": "code",
   "execution_count": null,
   "metadata": {
    "collapsed": true
   },
   "outputs": [],
   "source": []
  }
 ],
 "metadata": {
  "kernelspec": {
   "display_name": "Python 3",
   "language": "python",
   "name": "python3"
  },
  "language_info": {
   "codemirror_mode": {
    "name": "ipython",
    "version": 3
   },
   "file_extension": ".py",
   "mimetype": "text/x-python",
   "name": "python",
   "nbconvert_exporter": "python",
   "pygments_lexer": "ipython3",
   "version": "3.4.3"
  }
 },
 "nbformat": 4,
 "nbformat_minor": 0
}
