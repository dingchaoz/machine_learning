{
 "cells": [
  {
   "cell_type": "code",
   "execution_count": 21,
   "metadata": {
    "collapsed": true
   },
   "outputs": [],
   "source": [
    "# import libraries\n",
    "%matplotlib inline\n",
    "import numpy as np\n",
    "import matplotlib.pyplot as plt"
   ]
  },
  {
   "cell_type": "markdown",
   "metadata": {},
   "source": [
    "# Detect if mean or var shifts for continous stream data\n",
    "Use Hawkins CUSUM Method described in http://rmgsc.cr.usgs.gov/outgoing/threshold_articles/Hawkins_Zamba2005b.pdf\n",
    "Tunable Parameters:\n",
    " k : Allowance value, a threshold that signals a possible shift starts at the current position\n",
    " H : If CUSUM value goes beyond this value, conclude a shift has occured and the shift starts at the last point whose CUSUM is   larger than k Allowance value"
   ]
  },
  {
   "cell_type": "code",
   "execution_count": 202,
   "metadata": {
    "collapsed": false
   },
   "outputs": [],
   "source": [
    "#### Function to get the mean and std of the first 50 data points\n",
    "#### Use Hawkins CUSUM Method described in http://rmgsc.cr.usgs.gov/outgoing/threshold_articles/Hawkins_Zamba2005b.pdf\n",
    "#### and in Douglas C. Montgomery Statistical Quality Control 6th Edition Page 400-Page 417 Chapter Time-Weighted Control Charts\n",
    "#### Tunable Parameters:\n",
    "#### k : Allowance value, a threshold that signals a possible shift starts at the current position\n",
    "#### H : If CUSUM value goes beyond this value, conclude a shift has occured and the shift starts at the last point\n",
    "####  whose CUSUM is larger than k Allowance value\n",
    "#### Seperate k and H values are used for mean and var shift detection\n",
    "#### Usage example: data = np.loadtxt(\"posShiftUpVar_70.txt\", delimiter=\",\") shiftDetect(data)\n",
    "\n",
    "def shiftDetect(data):\n",
    "    \n",
    "    cusums_mean_up = []   # Ci array for mean upper shift detection\n",
    "    N_mean_up = [] # N+ array for mean upper shift detection\n",
    "    n_mean_up = 0 # N1 = 0\n",
    "    cusum_mean_up = 0   # C1 = 0 for mean upper shift detection\n",
    "    cusums_mean_lo = []   # Ci array for mean lower shift detection\n",
    "    N_mean_lo = [] # N+ array for mean lower shift detection\n",
    "    n_mean_lo = 0 # N1 = 0\n",
    "    cusum_mean_lo = 0   # C1 = 0 for mean lower shift detection\n",
    "    \n",
    "    cusums_var_up = [] # Ci array for var upper shift detection\n",
    "    N_var_up = [] # N+ arrary for var upper shift detection\n",
    "    n_var_up = 0 # N1 = 0\n",
    "    cusum_var_up = 0 # C1 = 0 for var upper shift detection\n",
    "    cusums_var_lo = [] # Ci array for var lower shift detection\n",
    "    N_var_lo = [] # N+ arrary for var lower shift detection\n",
    "    n_var_lo = 0 # N1 = 0\n",
    "    cusum_var_lo = 0 # C1 = 0 for var lower shift detection\n",
    "    \n",
    "    n = 50 # The first n samples form the baseline\n",
    "    i = 1 # The index looping through\n",
    "    mean = np.mean(data[:n]) # mean of baseline\n",
    "    sd = np.std(data[:n]) # std of baseline\n",
    "    k = 2 * sd  # Allowance value for mean shift detection\n",
    "    H = 12 * sd # Decision interval for mean shift detection\n",
    "    k_v = 1 * sd # Allowance value for var shift detection\n",
    "    if mean/sd <= 2:\n",
    "        H_v = 1.5 * mean/sd * sd # Decision interval for var shift detection that mean and std are close\n",
    "    else:\n",
    "        H_v = 5* mean/sd *sd # Decision interval for var shift detection that std is much smaller than mean\n",
    "    print (\"mean of 50 samples = \" + str(mean))\n",
    "    print (\"std of 50 samples = \" + str(sd))\n",
    "    print (\"Allowance value of mean = \" + str(k))\n",
    "    print (\"Decision interval of mean = \" + str(H))\n",
    "    print (\"Allowance value of variance = \" + str(k_v))\n",
    "    print (\"Decision interval of variance = \" + str(H_v))\n",
    "    \n",
    "    plt.plot(data)\n",
    "    plt.title(\"All Data Points\")\n",
    "    plt.show()\n",
    "    \n",
    "    #for x in data[n+1:]: # Start building CUSUM tabular from the n+1 point\n",
    "    for x in data: # Start building CUSUM tabular \n",
    "        \n",
    "        ## Tabular CUSUM for mean shift detection\n",
    "        # mean upper shift CUSUM tabular generation\n",
    "        cusum_mean_up = max(0, x - (mean + k) + cusum_mean_up) # Ci = max(0, xi-(mean+k)+Ci-1) for mean shift detection\n",
    "        \n",
    "        if cusum_mean_up == 0: # if cusum value is 0 \n",
    "             n_mean_up = 0    # not start recording a possible shift change, set index Number to 0\n",
    "        else:\n",
    "             n_mean_up = n_mean_up + 1 # else if cusum value is not 0 \n",
    "        N_mean_up.append(n_mean_up) # start recording a possible shift change, increment index Number by 1\n",
    "            \n",
    "        cusums_mean_up.append(cusum_mean_up) # Append CUSUM\n",
    "        \n",
    "        # mean lower shift CUSUM tabular generation\n",
    "        cusum_mean_lo = max(0, (mean - k) - x + cusum_mean_lo) # Ci = max(0, (mean-k)-xi+Ci-1) for mean shift detection\n",
    "        \n",
    "        if cusum_mean_lo == 0: # if cusum value is 0 \n",
    "             n_mean_lo = 0     # not start recording a possible shift change, set index Number to 0\n",
    "        else:\n",
    "             n_mean_lo = n_mean_lo + 1 # else if cusum value is not 0 \n",
    "        N_mean_lo.append(n_mean_lo)   # start recording a possible shift change, increment index Number by 1\n",
    "             \n",
    "        cusums_mean_lo.append(cusum_mean_lo) # Append CUSUM \n",
    "        \n",
    "        ## Tabular CUSUM for var shift detection\n",
    "        ## Ci  for var shift detection,Hawkins metod: yi = (xi - mean)/std, vi = (sqrt(abs(yi)) - 0.822)/0.349\n",
    "        ## Si+ = max(0,vi-k+Si-1) , Si- = max(0,-k-vi+Si-1)\n",
    "        \n",
    "        # var upper shift CUSUM tabular generation\n",
    "        y = (x - mean)/sd\n",
    "        if mean/sd <= 2:\n",
    "           v = ((np.sqrt(abs(y))) - 0.822) / 0.01 # v for mean and std are very close like posVarup 60 file\n",
    "        else:\n",
    "           v = ((np.sqrt(abs(y))) - 0.822) / 0.03  #file for std is much smaller than mean like posVarup70 file\n",
    "        \n",
    "        cusum_var_up = max(0, v - k_v + cusum_var_up)\n",
    "        \n",
    "        if cusum_var_up == 0: # if cusum value is 0 \n",
    "             n_var_up = 0     # not start recording a possible shift change, set index Number to 0\n",
    "        else:\n",
    "             n_var_up = n_var_up + 1 # else if cusum value is not 0 \n",
    "        N_var_up.append(n_var_up)   # start recording a possible shift change, increment index Number by 1\n",
    "        \n",
    "        cusums_var_up.append(cusum_var_up) # Append CUSUM \n",
    "        \n",
    "        # var lower shift CUSUM tabular generation\n",
    "        # cusum_var_lo = max(0,-v - k_v + cusum_var_up)\n",
    "        cusum_var_lo = abs(-v - k_v + cusum_var_up)\n",
    "        \n",
    "        if cusum_var_lo == 0: # if cusum value is 0 \n",
    "             n_var_lo = 0     # not start recording a possible shift change, set index Number to 0\n",
    "        else:\n",
    "             n_var_lo = n_var_lo + 1 # else if cusum value is not 0 \n",
    "        N_var_lo.append(n_var_lo)   # start recording a possible shift change, increment index Number by 1\n",
    "        \n",
    "        cusums_var_lo.append(cusum_var_lo) # Append CUSUM \n",
    "        \n",
    "        \n",
    "        i = i + 1\n",
    "        ## Decide if shift in mean or var is detected\n",
    "        if cusum_mean_up > H:\n",
    "           \n",
    "            c_i = i - (n_mean_up - 1) # The position where change right starts\n",
    "            print(\"Mean shifted up at position \" + str(c_i))\n",
    "            \n",
    "            print(\"CUSUM = \" + str(cusums_mean_up))\n",
    "            plt.plot(cusums_mean_up)\n",
    "            plt.title(\"CUSUM of MEAN UP \" + str(c_i) + \" observations\")\n",
    "            plt.show()\n",
    "            return\n",
    "        \n",
    "        if cusum_mean_lo > H:\n",
    "            \n",
    "            c_i = i - (n_mean_lo - 1) # The position where change right starts\n",
    "            print(\"Mean shifted down at position \" + str(c_i))\n",
    "            print(\"CUSUM = \" + str(cusums_mean_lo))\n",
    "            plt.plot(cusums_mean_lo)\n",
    "            plt.title(\"CUSUM of MEAN DOWN\" + str(c_i) + \" observations\")\n",
    "            plt.show()\n",
    "            return\n",
    "        \n",
    "        \n",
    "        if cusum_var_up > H_v:\n",
    "            #c_i = i + n + 1 - (n_var_up - 1) # The position where change right starts\n",
    "            c_i = i  - (n_var_up - 1)\n",
    "            print(\"Variance shifted up at position \" + str(c_i))\n",
    "            print(\"CUSUM = \" + str(cusums_var_up))\n",
    "            plt.plot(cusums_var_up)\n",
    "            plt.title(\"CUSUM of VAR up\" + str(c_i) + \" observations\")\n",
    "            plt.show()\n",
    "            return\n",
    "        \n",
    "        if cusum_var_lo > H_v:\n",
    "            #c_i = i + n + 1 - (n_var_lo - 1) # The position where change right starts\n",
    "            c_i = i  - (n_var_lo - 1)\n",
    "            print(\"Variance shifted down at position \" + str(c_i))\n",
    "            print(\"CUSUM = \" + str(cusums_var_lo))\n",
    "            plt.plot(cusums_var_lo)\n",
    "            plt.title(\"CUSUM of VAR down\" + str(c_i) + \" observations\")\n",
    "            plt.show()\n",
    "            return\n",
    "        \n",
    "       \n",
    "    print(\"No Change\")\n",
    "    \n",
    "    print(\"CUSUM = \" + str(cusums_mean_up))\n",
    "    plt.plot(cusums_mean_up)\n",
    "    plt.title(\"CUSUM of mean up\")\n",
    "    plt.show()\n",
    "    \n",
    "    print(\"CUSUM = \" + str(cusums_mean_lo))\n",
    "    plt.plot(cusums_mean_lo)\n",
    "    plt.title(\"CUSUM of mean down\")\n",
    "    plt.show()\n",
    "    \n",
    "    print(\"CUSUM = \" + str(cusums_var_up))\n",
    "    plt.plot(cusums_var_lo)\n",
    "    plt.title(\"CUSUM of VAR up\")\n",
    "    plt.show()\n",
    "    \n",
    "    print(\"CUSUM = \" + str(cusums_var_lo))\n",
    "    plt.plot(cusums_var_lo)\n",
    "    plt.title(\"CUSUM of VAR down\")\n",
    "    plt.show()\n",
    "    #plt.plot(all_cusums)\n",
    "    #plt.title(\"CUSUM of \" + str(n) + \" observations\")\n",
    "    #plt.show()\n",
    "    return\n",
    "\n"
   ]
  },
  {
   "cell_type": "code",
   "execution_count": 203,
   "metadata": {
    "collapsed": false
   },
   "outputs": [
    {
     "name": "stdout",
     "output_type": "stream",
     "text": [
      "mean of 50 samples = 79.06282\n",
      "std of 50 samples = 6.85063004019\n",
      "Allowance value of mean = 13.7012600804\n",
      "Decision interval of mean = 82.2075604823\n",
      "Allowance value of variance = 6.85063004019\n",
      "Decision interval of variance = 395.3141\n"
     ]
    },
    {
     "data": {
      "image/png": "[encoded data removed]",
      "text/plain": [
       "<matplotlib.figure.Figure at 0x81a20f0>"
      ]
     },
     "metadata": {},
     "output_type": "display_data"
    },
    {
     "name": "stdout",
     "output_type": "stream",
     "text": [
      "Mean shifted down at position 91\n",
      "CUSUM = [0, 0, 0, 0, 0, 0, 0, 0, 0, 0, 0, 0, 0, 0, 0, 0, 0, 0, 0, 0, 0, 0, 0, 0, 0, 0, 0, 0, 0, 0, 0, 0, 0, 0, 0, 0, 0, 1.7965599196132302, 0, 0, 0, 0, 0, 0, 0, 0, 0, 0, 0, 0, 0, 0, 0, 0, 0, 0, 0, 0, 0, 0, 0, 0, 0, 0, 0, 0, 0, 0, 0, 0, 0, 0, 0, 0, 0, 1.398559919613227, 0, 0, 0, 0, 0, 3.9635599196132247, 0, 0, 0, 0, 0, 2.3245599196132289, 0, 40.995559919613228, 84.502119839226452]\n"
     ]
    },
    {
     "data": {
      "image/png": "[encoded data removed]",
      "text/plain": [
       "<matplotlib.figure.Figure at 0x81c95f8>"
      ]
     },
     "metadata": {},
     "output_type": "display_data"
    }
   ],
   "source": [
    "## Test with posShiftUpVar_70.txt\n",
    "data = np.loadtxt(\"posShiftUpVar_70.txt\", delimiter=\",\")\n",
    "\n",
    "\n",
    "shiftDetect(data)\n"
   ]
  },
  {
   "cell_type": "code",
   "execution_count": null,
   "metadata": {
    "collapsed": true
   },
   "outputs": [],
   "source": []
  }
 ],
 "metadata": {
  "kernelspec": {
   "display_name": "Python 3",
   "language": "python",
   "name": "python3"
  },
  "language_info": {
   "codemirror_mode": {
    "name": "ipython",
    "version": 3
   },
   "file_extension": ".py",
   "mimetype": "text/x-python",
   "name": "python",
   "nbconvert_exporter": "python",
   "pygments_lexer": "ipython3",
   "version": "3.4.3"
  }
 },
 "nbformat": 4,
 "nbformat_minor": 0
}
