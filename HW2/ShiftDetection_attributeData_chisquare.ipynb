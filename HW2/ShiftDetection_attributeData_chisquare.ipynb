{
 "cells": [
  {
   "cell_type": "code",
   "execution_count": 27,
   "metadata": {
    "collapsed": true
   },
   "outputs": [],
   "source": [
    "# import libraries\n",
    "%matplotlib inline\n",
    "import numpy as np\n",
    "import matplotlib.pyplot as plt\n",
    "import scipy.stats as stats"
   ]
  },
  {
   "cell_type": "markdown",
   "metadata": {},
   "source": [
    "# Detect if probability shifts for attribute data (using Chi Square)\n",
    "Use Chi Square test to compare number of 'a' in current vs. reference windows.\n",
    "Tunable Parameters:\n",
    " a : Significant level (0.05 or 0.01) to reject the null hypothesis that current = reference\n",
    " w_size : Window size\n",
    " "
   ]
  },
  {
   "cell_type": "code",
   "execution_count": 47,
   "metadata": {
    "collapsed": false
   },
   "outputs": [
    {
     "data": {
      "image/png": "[encoded data removed]",
      "text/plain": [
       "<matplotlib.figure.Figure at 0x106724cf8>"
      ]
     },
     "metadata": {},
     "output_type": "display_data"
    },
    {
     "name": "stdout",
     "output_type": "stream",
     "text": [
      "[1, 1, 0, 1, 1, 1, 1, 1, 0, 0, 0, 0, 1, 1, 1, 1, 0, 0, 0, 1, 0, 1, 0, 1, 0]\n",
      "[0, 1, 1, 1, 1, 0, 1, 0, 0, 1, 1, 1, 0, 0, 0, 1, 1, 1, 1, 1, 1, 1, 0, 1, 0]\n",
      "[11, 14]\n",
      "[9, 16]\n",
      "0.420344935034\n",
      "No change\n"
     ]
    }
   ],
   "source": [
    "#### Function to get detect concept change for attributes data\n",
    "#### Assign char a,b,c to value 0,1,2 seperately for all data points first\n",
    "## posTriple2_160,posTriple_175, posTripleDouble_175, negTriple,negWithRare,negBinary\n",
    "\n",
    "# function to calculate probability from a data list\n",
    "def findP(list):\n",
    "    n = len(list)\n",
    "    p_a = list.count(0) / n\n",
    "    p_b = list.count(1) / n\n",
    "    if p_a + p_b == 1:\n",
    "        return p_a, p_b\n",
    "    else:\n",
    "        print('The data stream is not binary')\n",
    "        return\n",
    "\n",
    "# function to calculate probability from list with specific window size\n",
    "def findP_window_size(list, pos, window_size):\n",
    "    return findP(list[pos - size: pos])\n",
    "\n",
    "# read data\n",
    "with open('posBinary_150.txt') as f: # Open file as f\n",
    "    lines = f.read().splitlines()  # Split file line by line and put lines in to var \"lines\"\n",
    "f.close() # Close file\n",
    "\n",
    "data = [] # Initiate an array \"data\" to hold original attributes data \n",
    "for x in lines:\n",
    "    if x == 'a':    # Convert char a to number 0 and append to data array\n",
    "        data.append(0) \n",
    "    if x == 'b':    # Convert char b to number 1 and append to data array\n",
    "        data.append(1)\n",
    "    if x == 'c':    # Convert char c to number 2 and append to data array\n",
    "        data.append(2)\n",
    "        \n",
    "# print probability of a, b, c\n",
    "# find probabilities\n",
    "w_size = 25 # window size\n",
    "num_choice = 2 # binary or multinomial\n",
    "a = 0.05 # significant value\n",
    "\n",
    "prob = []\n",
    "x_axis = []\n",
    "for i in range(len(data)):\n",
    "    if i >= w_size:\n",
    "        p = findP_window_size(data, i, w_size)\n",
    "        prob.append(p[0])\n",
    "        x_axis.append(i)\n",
    "\n",
    "# plot probabilities        \n",
    "plt.plot(x_axis, prob)\n",
    "plt.title(\"Probability of a\")\n",
    "plt.show()\n",
    "        \n",
    "\n",
    "    \n",
    "## WRITE LOOP    \n",
    "\n",
    "W0 = data[:w_size] # set reference window\n",
    "W1 = data[w_size: w_size * 2] # set current window\n",
    "print(W0)\n",
    "print(W1)\n",
    "\n",
    "# find expected and observed value of a, b, c\n",
    "if num_choice == 2:\n",
    "    expected = [W0.count(0), W0.count(1)]\n",
    "    observed = [W1.count(0), W1.count(1)]\n",
    "if num_choice == 3:\n",
    "    expected = [W0.count(0), W0.count(1), W0.count(2)]\n",
    "    observed = [W1.count(0), W1.count(1), W0.count(2)]\n",
    "    \n",
    "# find chi square\n",
    "chi = stats.chisquare(f_obs=observed, f_exp=expected)\n",
    "p = chi[1]\n",
    "\n",
    "print(expected)\n",
    "print(observed)\n",
    "print(p)\n",
    "\n",
    "# reject H0 and conclude that there is a change at n\n",
    "if p < a:\n",
    "    print(\"Change detected at \" + str(w_size * 2))\n",
    "else:\n",
    "    print(\"No change\")\n",
    "\n"
   ]
  },
  {
   "cell_type": "code",
   "execution_count": null,
   "metadata": {
    "collapsed": true
   },
   "outputs": [],
   "source": []
  }
 ],
 "metadata": {
  "kernelspec": {
   "display_name": "Python 3",
   "language": "python",
   "name": "python3"
  },
  "language_info": {
   "codemirror_mode": {
    "name": "ipython",
    "version": 3
   },
   "file_extension": ".py",
   "mimetype": "text/x-python",
   "name": "python",
   "nbconvert_exporter": "python",
   "pygments_lexer": "ipython3",
   "version": "3.4.3"
  }
 },
 "nbformat": 4,
 "nbformat_minor": 0
}
