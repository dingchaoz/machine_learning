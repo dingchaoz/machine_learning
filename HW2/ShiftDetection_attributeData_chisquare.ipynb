{
 "cells": [
  {
   "cell_type": "code",
   "execution_count": 1,
   "metadata": {
    "collapsed": true
   },
   "outputs": [],
   "source": [
    "# import libraries\n",
    "%matplotlib inline\n",
    "import numpy as np\n",
    "import matplotlib.pyplot as plt\n",
    "import scipy.stats as stats"
   ]
  },
  {
   "cell_type": "markdown",
   "metadata": {},
   "source": [
    "# Detect if probability shifts for attribute data (using Chi Square)\n",
    "Use Chi Square test to compare number of 'a' in current vs. reference windows.\n",
    "Tunable Parameters:\n",
    " a : Significant level (0.05 or 0.01) to reject the null hypothesis that current = reference\n",
    " w_size : Window size\n",
    " "
   ]
  },
  {
   "cell_type": "code",
   "execution_count": 32,
   "metadata": {
    "collapsed": false
   },
   "outputs": [],
   "source": [
    "#### Function to get detect concept change for attributes data\n",
    "#### Assign char a,b,c to value 0,1,2 seperately for all data points first\n",
    "## posTriple2_160,posTriple_175, posTripleDouble_175, negTriple,negWithRare,negBinary\n",
    "\n",
    "# function to calculate probability from a data list\n",
    "def findP(list):\n",
    "    n = len(list)\n",
    "    p_a = list.count(0) / n\n",
    "    p_b = list.count(1) / n\n",
    "    p_c = list.count(0) / n\n",
    "    return p_a, p_b, p_c\n",
    "\n",
    "# function to calculate probability from list with specific window size\n",
    "def findP_window_size(list, pos, window_size):\n",
    "    return findP(list[pos - window_size: pos])\n",
    "\n",
    "## function to detect change using Chi-Square. Specify window size and alpha\n",
    "def detectChiSq(data, num_choice=2, w_size=40, a=0.01):\n",
    "\n",
    "    # find probabilities of a, b, c\n",
    "    prob = []\n",
    "    x_axis = []\n",
    "    for i in range(len(data)):\n",
    "        if i >= w_size:\n",
    "            p = findP_window_size(data, i, w_size)\n",
    "            prob.append(p[0])\n",
    "            x_axis.append(i)\n",
    "\n",
    "    # plot probabilities        \n",
    "    with plt.style.context('bmh'):\n",
    "        plt.plot(x_axis, prob)\n",
    "        plt.title(\"Probability of a\")\n",
    "    plt.show()\n",
    "\n",
    "    # loop to detect change\n",
    "    for i in range(len(data)):\n",
    "        if i - w_size >= w_size:\n",
    "            W0 = data[i - (w_size * 2):i - w_size] # set reference window\n",
    "            W1 = data[i - w_size: i] # set current window from current location minus w_size\n",
    "\n",
    "            # find expected and observed value of a, b, c\n",
    "            if num_choice == 2:\n",
    "                expected = [W0.count(0), W0.count(1)]\n",
    "                observed = [W1.count(0), W1.count(1)]\n",
    "            if num_choice == 3:\n",
    "                expected = [W0.count(0), W0.count(1), W0.count(2)]\n",
    "                observed = [W1.count(0), W1.count(1), W0.count(2)]\n",
    "\n",
    "            # find chi square\n",
    "            chi = stats.chisquare(f_obs=observed, f_exp=expected)\n",
    "            p = chi[1]\n",
    "\n",
    "            # reject H0 and conclude that there is a change at n\n",
    "            if p < a:\n",
    "                return(\"Change detected at \" + str(i) + \" with p-value = \" + str(p))\n",
    "        else:\n",
    "            pass\n",
    "    return(\"No change\")"
   ]
  },
  {
   "cell_type": "code",
   "execution_count": 62,
   "metadata": {
    "collapsed": false
   },
   "outputs": [
    {
     "data": {
      "image/png": "[encoded data removed]",
      "text/plain": [
       "<matplotlib.figure.Figure at 0x614b5f8>"
      ]
     },
     "metadata": {},
     "output_type": "display_data"
    },
    {
     "name": "stdout",
     "output_type": "stream",
     "text": [
      "Change detected at 178 with p-value = 0.000504218229449\n"
     ]
    }
   ],
   "source": [
    "# read data\n",
    "with open('posBinary_150.txt') as f: # Open file as f\n",
    "    lines = f.read().splitlines()  # Split file line by line and put lines in to var \"lines\"\n",
    "f.close() # Close file\n",
    "\n",
    "data = [] # Initiate an array \"data\" to hold original attributes data \n",
    "for x in lines:\n",
    "    if x == 'a':    # Convert char a to number 0 and append to data array\n",
    "        data.append(0) \n",
    "    if x == 'b':    # Convert char b to number 1 and append to data array\n",
    "        data.append(1)\n",
    "    if x == 'c':    # Convert char c to number 2 and append to data array\n",
    "        data.append(2)     \n",
    "\n",
    "print(detectChiSq(data, num_choice=2, w_size=45, a=0.001))"
   ]
  },
  {
   "cell_type": "code",
   "execution_count": null,
   "metadata": {
    "collapsed": true
   },
   "outputs": [],
   "source": []
  }
 ],
 "metadata": {
  "kernelspec": {
   "display_name": "Python 3",
   "language": "python",
   "name": "python3"
  },
  "language_info": {
   "codemirror_mode": {
    "name": "ipython",
    "version": 3
   },
   "file_extension": ".py",
   "mimetype": "text/x-python",
   "name": "python",
   "nbconvert_exporter": "python",
   "pygments_lexer": "ipython3",
   "version": "3.4.3"
  }
 },
 "nbformat": 4,
 "nbformat_minor": 0
}
