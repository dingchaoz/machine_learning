{
 "cells": [
  {
   "cell_type": "code",
   "execution_count": 23,
   "metadata": {
    "collapsed": false
   },
   "outputs": [
    {
     "name": "stdout",
     "output_type": "stream",
     "text": [
      "[[ 0.10701887  0.36054191  0.05725005  0.03215615  0.00997694  0.03745865\n",
      "   0.24612404  0.00360993  0.070101    0.07576245]]\n",
      "0.107018868338\n",
      "0.524810834679 0.00997694165532 0.465212223666\n",
      "change['a' 'c' 'c' 'a' 'c' 'a' 'c' 'c' 'a' 'c' 'c' 'a' 'c' 'a' 'a' 'c' 'a' 'a'\n",
      " 'a' 'c' 'c' 'c' 'a' 'a' 'c' 'c' 'a' 'a' 'a' 'a' 'a' 'a' 'a' 'c' 'a' 'a'\n",
      " 'a' 'a' 'c' 'c' 'c' 'c' 'a' 'a' 'c' 'c' 'a' 'a' 'c' 'a' 'c' 'c' 'a' 'c'\n",
      " 'a' 'a' 'c' 'a' 'b' 'b' 'a' 'b' 'b' 'a' 'b' 'b' 'b' 'b' 'b' 'a' 'b' 'a'\n",
      " 'b' 'a' 'b' 'a' 'b' 'b' 'b' 'a' 'b' 'a' 'b' 'b' 'b' 'a' 'a' 'b' 'a' 'a'\n",
      " 'b' 'a' 'b' 'a' 'b' 'b' 'a' 'b' 'b' 'b']\n"
     ]
    }
   ],
   "source": [
    "import numpy as np\n",
    "\n",
    "have_change = np.random.choice([True, False])\n",
    "choices = ['a','b','c']\n",
    "p = np.random.dirichlet(np.ones(10),size=1)\n",
    "p_0 = np.sum(p[0][:3])\n",
    "p_1 = np.sum(p[0][4:5])\n",
    "p_2 = 1- p_0 - p_1 \n",
    "\n",
    "if have_change:\n",
    "    position_change = np.random.randint(51, 100)\n",
    "    data1 = np.random.choice(choices, position_change, p=[p_0,p_1,p_2])\n",
    "    data2 = np.random.choice(choices, 100 - position_change, p=[p_2,p_0,p_1])\n",
    "    data = np.append(data1, data2)\n",
    "    filename = str(i) + '_posTriple_' + str(position_change) + '.txt'\n",
    "    print(\"change\" + str(data))\n",
    "else:\n",
    "    position_change = -1\n",
    "    data = np.random.choice(choices, 100, p=[p_0,p_1,p_2])\n",
    "    filename = str(i) + 'negTriple.txt'\n",
    "    print(\" no change\" + str(data))\n",
    "\n",
    "#lst = data.tolist()\n",
    "#with open(filename, \"w\") as f:\n",
    "    #for x in lst:\n",
    "        #f.write(\"%s\\n\" % x)\n",
    "    #f.close()\n",
    "#return \"write sample file \" + filename\n",
    "\n",
    "    "
   ]
  },
  {
   "cell_type": "code",
   "execution_count": null,
   "metadata": {
    "collapsed": true
   },
   "outputs": [],
   "source": []
  }
 ],
 "metadata": {
  "kernelspec": {
   "display_name": "Python 3",
   "language": "python",
   "name": "python3"
  },
  "language_info": {
   "codemirror_mode": {
    "name": "ipython",
    "version": 3
   },
   "file_extension": ".py",
   "mimetype": "text/x-python",
   "name": "python",
   "nbconvert_exporter": "python",
   "pygments_lexer": "ipython3",
   "version": "3.4.3"
  }
 },
 "nbformat": 4,
 "nbformat_minor": 0
}
