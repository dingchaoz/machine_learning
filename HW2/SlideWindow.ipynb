{
 "cells": [
  {
   "cell_type": "code",
   "execution_count": 44,
   "metadata": {
    "collapsed": true
   },
   "outputs": [],
   "source": [
    "# import libraries\n",
    "%matplotlib inline\n",
    "import numpy as np\n",
    "import matplotlib.pyplot as plt\n",
    "import scipy.stats as stats\n",
    "from collections import deque\n",
    "## Function to detect mean and variance change using two sliding windows comparison\n",
    "\n",
    "##def SlideWindow(data):\n",
    "##need to keep tuning, shiftupmean70 and var 70 are conflicting  \n",
    "    "
   ]
  },
  {
   "cell_type": "code",
   "execution_count": 155,
   "metadata": {
    "collapsed": true
   },
   "outputs": [],
   "source": [
    "data = np.loadtxt(\"posShiftUpMean_70.txt\", delimiter=\",\")"
   ]
  },
  {
   "cell_type": "code",
   "execution_count": 156,
   "metadata": {
    "collapsed": false
   },
   "outputs": [
    {
     "name": "stdout",
     "output_type": "stream",
     "text": [
      "[ 57.405  50.006  60.752  61.726  53.121  67.145  67.135  59.774  61.964\n",
      "  61.048  58.88   64.355  56.47   73.099  59.182  60.684  66.401  60.356\n",
      "  59.426  55.006] [ 51.983  64.286  69.741  55.849  65.148  67.524  50.438  51.354  63.427\n",
      "  57.601  64.14   64.894  64.271  67.741  64.012  67.145  52.785  59.881\n",
      "  59.06   50.375]\n",
      "Variance changes to larger occured at position 56\n",
      "36.4267290275 380.63124111\n",
      "no change\n"
     ]
    }
   ],
   "source": [
    "winSize = 20\n",
    "winA = data[:winSize]\n",
    "winB = data[winSize+1:2*winSize +1]\n",
    "print(winA, winB)\n",
    "i = 1\n",
    "\n",
    "while 2*winSize+1+i < len(data):\n",
    "    if np.mean(winA) <  np.mean(winB):\n",
    "        if abs(np.mean(winA) - np.mean(winB)) >= 0.8*(np.mean(winA)):\n",
    "\n",
    "            print (\"Mean change gets larger at position \" + str(winSize + i))\n",
    "            print(np.mean(winA),np.mean(winB))\n",
    "            break\n",
    "    if np.mean(winA) >  np.mean(winB):\n",
    "        if abs(np.mean(winA) - np.mean(winB)) >= 0.5*(np.mean(winA)):\n",
    "\n",
    "            print (\"Mean change gets smaller at position \" + str(winSize + i))\n",
    "            print(np.mean(winA),np.mean(winB))\n",
    "            break\n",
    "            \n",
    "    if np.var(winB) > np.var(winA):\n",
    "        if abs(np.var(winA) - np.var(winB)) >= 9*(np.var(winA)):\n",
    "            print (\"Variance changes to larger occured at position \" + str(winSize + i))\n",
    "            print(np.var(winA),np.var(winB))\n",
    "            break\n",
    "    if np.var(winB) < np.var(winA):\n",
    "        if abs(np.var(winA) - np.var(winB)) >= 0.8*(np.var(winA)):\n",
    "            print (\"Variance changes to smaller occured at position \" + str(winSize + i))\n",
    "            print(np.var(winA),np.var(winB))\n",
    "            break\n",
    "    \n",
    "\n",
    "    winA = deque(winA)\n",
    "    winB = deque(winB)\n",
    "    winA.popleft()\n",
    "    winA.append(winB.popleft())\n",
    "    winB.append(data[2*winSize + 1 + i])\n",
    "    i = 1 + i\n",
    "\n",
    "print(\"no change\")"
   ]
  },
  {
   "cell_type": "code",
   "execution_count": null,
   "metadata": {
    "collapsed": true
   },
   "outputs": [],
   "source": []
  },
  {
   "cell_type": "code",
   "execution_count": null,
   "metadata": {
    "collapsed": true
   },
   "outputs": [],
   "source": []
  }
 ],
 "metadata": {
  "kernelspec": {
   "display_name": "Python 3",
   "language": "python",
   "name": "python3"
  },
  "language_info": {
   "codemirror_mode": {
    "name": "ipython",
    "version": 3
   },
   "file_extension": ".py",
   "mimetype": "text/x-python",
   "name": "python",
   "nbconvert_exporter": "python",
   "pygments_lexer": "ipython3",
   "version": "3.4.3"
  }
 },
 "nbformat": 4,
 "nbformat_minor": 0
}
