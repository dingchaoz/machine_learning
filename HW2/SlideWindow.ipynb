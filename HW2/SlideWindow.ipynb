{
 "cells": [
  {
   "cell_type": "code",
   "execution_count": 44,
   "metadata": {
    "collapsed": true
   },
   "outputs": [],
   "source": [
    "# import libraries\n",
    "%matplotlib inline\n",
    "import numpy as np\n",
    "import matplotlib.pyplot as plt\n",
    "import scipy.stats as stats\n",
    "from collections import deque\n",
    "## Function to detect mean and variance change using two sliding windows comparison\n",
    "\n",
    "##def SlideWindow(data):\n",
    "##need to keep tuning, shiftupmean70 and var 70 are conflicting  \n",
    "    "
   ]
  },
  {
   "cell_type": "code",
   "execution_count": 237,
   "metadata": {
    "collapsed": true
   },
   "outputs": [],
   "source": [
    "data = np.loadtxt(\"posShiftDownMean_90.txt\", delimiter=\",\")"
   ]
  },
  {
   "cell_type": "code",
   "execution_count": 238,
   "metadata": {
    "collapsed": false
   },
   "outputs": [
    {
     "name": "stdout",
     "output_type": "stream",
     "text": [
      "[ 86.446  81.853  72.082  90.717  82.316  91.831  89.104  74.527  69.665\n",
      "  79.417  77.355  73.251  83.982  91.908  75.628  73.226  78.029  85.304\n",
      "  73.166  70.389] [ 79.478  83.882  75.236  78.803  76.522  79.365  92.281  75.148  69.221\n",
      "  83.755  72.771  80.287  74.98   84.283  84.423  78.37   63.565  81.06\n",
      "  92.744  88.147]\n",
      "Mean change gets smaller at position 81\n",
      "79.28165 47.13485\n",
      "no change\n"
     ]
    }
   ],
   "source": [
    "winSize = 20\n",
    "winA = data[:winSize]\n",
    "winB = data[winSize+1:2*winSize +1]\n",
    "print(winA, winB)\n",
    "i = 1\n",
    "\n",
    "while 2*winSize+1+i < len(data):\n",
    "    if np.mean(winA) <  np.mean(winB) and (winSize + i > 50): ## Assume change occurs only after 50 points\n",
    "        if abs(np.mean(winA) - np.mean(winB)) >= 0.25*(np.mean(winA)): ## 0.5, 0.23\n",
    "\n",
    "            print (\"Mean change gets larger at position \" + str(winSize + i))\n",
    "            print(np.mean(winA),np.mean(winB))\n",
    "            break\n",
    "    if np.mean(winA) >  np.mean(winB):\n",
    "        if abs(np.mean(winA) - np.mean(winB)) >= 0.4*(np.mean(winA)):\n",
    "\n",
    "            print (\"Mean change gets smaller at position \" + str(winSize + i))\n",
    "            print(np.mean(winA),np.mean(winB))\n",
    "            break\n",
    "            \n",
    "    if np.var(winB) > np.var(winA):\n",
    "        if abs(np.var(winA) - np.var(winB)) >= 9*(np.var(winA)): ## 12\n",
    "            print (\"Variance changes to larger occured at position \" + str(winSize + i))\n",
    "            print(np.var(winA),np.var(winB))\n",
    "            break\n",
    "    if np.var(winB) < np.var(winA):\n",
    "        if abs(np.var(winA) - np.var(winB)) >= 0.8*(np.var(winA)):\n",
    "            print (\"Variance changes to smaller occured at position \" + str(winSize + i))\n",
    "            print(np.var(winA),np.var(winB))\n",
    "            break\n",
    "    \n",
    "\n",
    "    winA = deque(winA)\n",
    "    winB = deque(winB)\n",
    "    winA.popleft()\n",
    "    winA.append(winB.popleft())\n",
    "    winB.append(data[2*winSize + 1 + i])\n",
    "    i = 1 + i\n",
    "\n",
    "print(\"no change\")"
   ]
  },
  {
   "cell_type": "code",
   "execution_count": null,
   "metadata": {
    "collapsed": true
   },
   "outputs": [],
   "source": []
  },
  {
   "cell_type": "code",
   "execution_count": null,
   "metadata": {
    "collapsed": true
   },
   "outputs": [],
   "source": []
  }
 ],
 "metadata": {
  "kernelspec": {
   "display_name": "Python 3",
   "language": "python",
   "name": "python3"
  },
  "language_info": {
   "codemirror_mode": {
    "name": "ipython",
    "version": 3
   },
   "file_extension": ".py",
   "mimetype": "text/x-python",
   "name": "python",
   "nbconvert_exporter": "python",
   "pygments_lexer": "ipython3",
   "version": "3.4.3"
  }
 },
 "nbformat": 4,
 "nbformat_minor": 0
}
