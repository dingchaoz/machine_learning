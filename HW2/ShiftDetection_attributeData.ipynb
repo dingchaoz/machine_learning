{
 "cells": [
  {
   "cell_type": "code",
   "execution_count": 110,
   "metadata": {
    "collapsed": true
   },
   "outputs": [],
   "source": [
    "# import libraries\n",
    "%matplotlib inline\n",
    "import numpy as np\n",
    "import matplotlib.pyplot as plt"
   ]
  },
  {
   "cell_type": "markdown",
   "metadata": {},
   "source": [
    "# Detect concept change for attributes stream data\n"
   ]
  },
  {
   "cell_type": "code",
   "execution_count": 150,
   "metadata": {
    "collapsed": false
   },
   "outputs": [],
   "source": [
    "#### Function to get detect concept change for attributes data\n",
    "#### Assign char a,b,c to uniformly distributed value seperately for all data points first\n",
    "#### Then, group data samples into sub group first,with each group has n data points,calculate the average of each subgroup\n",
    "#### Therefore we get a new continous data array named sample\n",
    "#### Plot the sample and a shift can be seen obviously\n",
    "#### To-do: Experiment using p chart, or Shewart chart or CUSUM or other methods to detect the change position\n",
    "#### and in Douglas C. Montgomery Statistical Quality Control 6th Edition Page 400-Page 417 Chapter Time-Weighted Control Charts\n",
    "#### Tunable Parameters:\n",
    "#### n : subgroup sample size n \n",
    "#### t: The first t data points be selected as baseline\n",
    "## posTriple2_160,posTriple_175, posTripleDouble_175, negTriple,negWithRare,negBinary Verified\n",
    "\n",
    "def shiftDetectAtt(lines):\n",
    "    \n",
    "    np.random.seed(123456789)\n",
    "\n",
    "    data = [] # Initiate an array \"data\" to hold original attributes data \n",
    "    for x in lines:\n",
    "        if x == 'a':    #  # Convert char a to a random number from 0 to 1 and append to data array\n",
    "            #data.append(0) \n",
    "            data.append(np.random.uniform(0,1,1))\n",
    "        if x == 'b':     # Convert char b to a random number from 1 to 2 and append to data array\n",
    "            #data.append(1)\n",
    "            data.append(np.random.uniform(1,2,1))\n",
    "        if x == 'c':    # Convert char c to a random number from 2 to 3 and append to data array\n",
    "            #data.append(2)\n",
    "            data.append(np.random.uniform(2,3,1))\n",
    "        \n",
    "\n",
    "    n = 14 # Tunable parameter to group each n+1 data points into a new sample point\n",
    "    m = len(data)/(n+1) # Number of samples converted from original data\n",
    "    sample = [] # A new array to hold continous data converted from attributes data\n",
    "\n",
    "    ## Fill in the new sample data array converted from original attributes data\n",
    "    for i in range(int(m)):\n",
    "        if i == 0:\n",
    "            sample.append(sum(data[:n])/(n+1))   # Append the average values of each n+1 data points\n",
    "        else:\n",
    "            sample.append(sum(data[i*n+1:(i+1)*n])/(n+1))  # Append the average values of each n+1 data points\n",
    "\n",
    "    print(\"Converted variable values are\" + str(sample))\n",
    "\n",
    "    t = 4 # Choose the first t+1 numbers of sample points as baseline\n",
    "\n",
    "    ## Calculate control limits using P chart method\n",
    "    mean = np.average(sample[:t]) # Get the mean of baseline data\n",
    "    sd = np.std(sample[:t])\n",
    "    #UCL = mean + 3*np.sqrt(mean*(1-mean)/(n+1)) # Upper control limit in P chart, does not work for negtriple, tripledouble\n",
    "    #LCL = mean - 3*np.sqrt(mean*(1-mean)/(n+1)) # Lower control limit in P chart,does not work for negtriple, tripledouble\n",
    "    UCL = mean + 3*sd # Upper control limit in Shewart method\n",
    "    LCL = mean - 3*sd # Lower control limit in Shewart method\n",
    "\n",
    "\n",
    "    print(\"mean is in Shewart method:\" + str(mean)) # Print the mean value of the control chart\n",
    "    print(\"UCL is in Shewart method: \" + str(UCL))  # Print the UCL value of the control chart\n",
    "    print(\"LCL is in Shewart method: \" + str(LCL))  # Print the LCL value of the control chart\n",
    "    print(str(range(t+1,len(sample))))\n",
    "    print(str(sample[5]))\n",
    "    \n",
    "    #N = [] # Array to record outside threhold points index in a trend\n",
    "    n = 0 # index starts from 0 which means not a point outsidte threshold\n",
    "    ## Detect if there is concept change occurs after the baseline sample points\n",
    "    for i in range(t+1,len(sample)):\n",
    "        if (sample[i] >= UCL) | (sample[i] <= LCL): # If there is a point outside threshold\n",
    "            n = n + 1\n",
    "            #N.append(n)\n",
    "            if n == 3: # If it is the consecutive 3rd point that is outside threshold\n",
    "                print(\"Concept change occured at position \" + str((i-2)*(n+1)) + \"of original attributes data\")\n",
    "                print(\"That corresponds to the \"+str(i-2)+\"th position on the converted data graph below\")\n",
    "                print(\"The change occur sample value is\"+str(sample[i-2]))\n",
    "                plt.plot(sample) # Plot the converted variable smaple data \n",
    "                plt.plot([0, len(sample)], [UCL, UCL], 'r--', color='r')  # Plot the Upper Control Limit\n",
    "                plt.plot([0, len(sample)], [LCL, LCL], 'r--', color='r') # Plot the Lower Control LIMIT\n",
    "                plt.text(1, UCL - 0.05, 'UCL',color='r') # Label out UCL \n",
    "                plt.text(1, LCL + 0.05, 'LCL',color='r') # Label out LCL \n",
    "                plt.title(\"Converted Variable Plot from Original Attributes Data,Change Ocurred\")\n",
    "                plt.show()\n",
    "                return\n",
    "        else:\n",
    "            n = 0\n",
    "        \n",
    "            \n",
    "    \n",
    "    print(\"No Change\")\n",
    "    plt.plot(sample) # Plot the converted variable smaple data \n",
    "    plt.plot([0, len(sample)], [UCL, UCL], 'r--', color='r')  # Plot the Upper Control Limit\n",
    "    plt.plot([0, len(sample)], [LCL, LCL], 'r--', color='r') # Plot the Lower Control LIMIT\n",
    "    plt.text(1, UCL - 0.05, 'UCL',color='r') # Label out UCL \n",
    "    plt.text(1, LCL + 0.05, 'LCL',color='r') # Label out LCL \n",
    "    plt.title(\"Converted Variable Plot from Original Attributes Data\")\n",
    "    plt.show()\n",
    "\n",
    "    return\n",
    "\n",
    "\n",
    "\n",
    "\n",
    "  "
   ]
  },
  {
   "cell_type": "code",
   "execution_count": 151,
   "metadata": {
    "collapsed": false
   },
   "outputs": [
    {
     "name": "stdout",
     "output_type": "stream",
     "text": [
      "Converted variable values are[array([ 1.13609049]), array([ 0.78834272]), array([ 1.03071131]), array([ 1.09551696]), array([ 0.94734628]), array([ 1.00795232]), array([ 0.70951914]), array([ 1.16689971]), array([ 1.15685959]), array([ 0.88990495]), array([ 0.91420452]), array([ 0.75099356]), array([ 0.49374622]), array([ 0.81785645]), array([ 0.60462383]), array([ 0.5366467]), array([ 0.67840606]), array([ 0.65145783]), array([ 0.6734874]), array([ 0.39303896]), array([ 0.77708397])]\n",
      "mean is in Shewart method:1.0126653702\n",
      "UCL is in Shewart method: 1.4172330692\n",
      "LCL is in Shewart method: 0.608097671199\n",
      "range(5, 21)\n",
      "[ 1.00795232]\n",
      "No Change\n"
     ]
    },
    {
     "data": {
      "image/png": "[encoded data removed]",
      "text/plain": [
       "<matplotlib.figure.Figure at 0x7a0ef60>"
      ]
     },
     "metadata": {},
     "output_type": "display_data"
    }
   ],
   "source": [
    "    with open('posBinary_150.txt') as f: # Open file as f\n",
    "        lines = f.read().splitlines()  # Split file line by line and put lines in to var \"lines\"\n",
    "    f.close() # Close file\n",
    "    \n",
    "    shiftDetectAtt(lines)\n",
    "    "
   ]
  },
  {
   "cell_type": "code",
   "execution_count": null,
   "metadata": {
    "collapsed": true
   },
   "outputs": [],
   "source": []
  }
 ],
 "metadata": {
  "kernelspec": {
   "display_name": "Python 3",
   "language": "python",
   "name": "python3"
  },
  "language_info": {
   "codemirror_mode": {
    "name": "ipython",
    "version": 3
   },
   "file_extension": ".py",
   "mimetype": "text/x-python",
   "name": "python",
   "nbconvert_exporter": "python",
   "pygments_lexer": "ipython3",
   "version": "3.4.3"
  }
 },
 "nbformat": 4,
 "nbformat_minor": 0
}
