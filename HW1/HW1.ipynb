{
 "cells": [
  {
   "cell_type": "markdown",
   "metadata": {},
   "source": [
    "# Homework 1\n",
    "Due by 9/14/15 at 11:59pm EST\n",
    "\n",
    "-----------\n",
    "\n",
    "## Introduction\n",
    "\n",
    "Some notes here perhaps..."
   ]
  },
  {
   "cell_type": "code",
   "execution_count": 6,
   "metadata": {
    "collapsed": true
   },
   "outputs": [],
   "source": [
    "# special IPython command to prepare the notebook for matplotlib\n",
    "%matplotlib inline \n",
    "\n",
    "import math as m\n",
    "import scipy.stats as ss\n",
    "import numpy as np\n",
    "import pandas as pd\n",
    "import matplotlib.pyplot as plt\n",
    "from IPython.display import Image"
   ]
  },
  {
   "cell_type": "markdown",
   "metadata": {},
   "source": [
    "## Problem 1"
   ]
  },
  {
   "cell_type": "markdown",
   "metadata": {},
   "source": [
    "#### Problem 1a \n",
    "Generate a random data set with 100 rows and 4 columns (A, B, C, D) defined as:\n",
    "- A = Normal distribution with mean = 5, variance = 3\n",
    "- B = Uniform distribution 5 to 7\n",
    "- C = A+B\n",
    "- D = A\\*B\n",
    "\n",
    "Generate the data by row using a random seed 123456789.\n"
   ]
  },
  {
   "cell_type": "code",
   "execution_count": 41,
   "metadata": {
    "collapsed": false
   },
   "outputs": [
    {
     "name": "stdout",
     "output_type": "stream",
     "text": [
      "[ 5.49529161  5.84290871  5.0733133   6.44796539  6.06642627  5.6267727\n",
      "  6.5821647   5.6740692   6.6665014   6.36307727  5.31825019  5.32101949\n",
      "  5.9645844   6.28169957  6.02066806  5.65260359  5.34561097  6.30529469\n",
      "  6.44910338  6.33466618  6.16654905  5.52626429  5.34467364  5.99856977\n",
      "  5.00900118  6.49039109  5.3004384   6.02497614  6.83379297  6.0381566\n",
      "  6.27379309  5.59361636  6.87390776  5.1185544   5.85106268  6.90251711\n",
      "  5.76032628  5.56863869  5.53602517  5.13240892  6.28317914  6.45187187\n",
      "  6.43080204  6.7400199   5.68541663  6.94699995  6.71849824  5.37310302\n",
      "  5.89766234  5.04967045  5.86403147  5.57455204  5.40475448  5.10668658\n",
      "  5.62575794  5.45047517  5.84294418  5.49050103  6.53441102  5.71577812\n",
      "  5.74719917  6.40562504  5.61383588  5.63572852  5.7176873   5.16855753\n",
      "  6.72340855  5.20741382  5.95106996  5.18443235  6.45315731  5.13264512\n",
      "  5.00867605  5.76050096  5.26191359  6.33050247  5.83515666  5.37846458\n",
      "  5.53740453  5.3795532   6.42054656  6.29581803  5.20076954  5.45964098\n",
      "  6.66169187  5.6000998   6.21514995  6.97301806  6.652721    5.36383675\n",
      "  5.38655454  6.59043761  5.1678179   5.45657386  5.45854268  5.99517118\n",
      "  6.22259518  5.43364063  5.13195869  6.36426623]\n"
     ]
    }
   ],
   "source": [
    "## generate data by using the seed 123456789\n",
    "np.random.seed(123456789)\n",
    "\n",
    "A = np.random.normal(5,m.sqrt(3),100) # Genrate A which is a normal dist list of mean 5, var 3, size 100\n",
    "B = np.random.uniform(5,7,100) # Genrate B which is an uniform dist between 5 to 7, size 100\n",
    "C = A + B # Generat C which is the sum of A and B\n",
    "D = A * B # Generat D which is the product of A and B\n"
   ]
  },
  {
   "cell_type": "markdown",
   "metadata": {},
   "source": [
    "#### Problem 1b\n",
    "Compute the correlation coefficient and sample covariance between the 4 variables.  That is, write the actual loop rather than call the correlation or covariance functions. Then print these matrices. Is either matrix symmetric? "
   ]
  },
  {
   "cell_type": "code",
   "execution_count": 70,
   "metadata": {
    "collapsed": false
   },
   "outputs": [
    {
     "name": "stdout",
     "output_type": "stream",
     "text": [
      "Coef of A and B \n",
      " [[ 1.          0.12296092]\n",
      " [ 0.12296092  1.        ]] \n",
      "\n",
      "Covar of A and B \n",
      " [[ 2.73496624  0.11064043]\n",
      " [ 0.11064043  0.29603393]] \n",
      "\n",
      "Coef of A and C \n",
      " [[ 1.          0.95412407]\n",
      " [ 0.95412407  1.        ]] \n",
      "\n",
      "Covar of A and C \n",
      " [[ 2.73496624  2.84560667]\n",
      " [ 2.84560667  3.25228102]] \n",
      "\n",
      "Coef of A and D \n",
      " [[ 1.          0.95674997]\n",
      " [ 0.95674997  1.        ]] \n",
      "\n",
      "Covar of A and D \n",
      " [[   2.73496624   16.53103805]\n",
      " [  16.53103805  109.15694407]] \n",
      "\n",
      "Coef of B and A \n",
      " [[ 1.          0.12296092]\n",
      " [ 0.12296092  1.        ]] \n",
      "\n",
      "Covar of B and A \n",
      " [[ 0.29603393  0.11064043]\n",
      " [ 0.11064043  2.73496624]] \n",
      "\n",
      "Coef of B and C \n",
      " [[ 1.          0.41445942]\n",
      " [ 0.41445942  1.        ]] \n",
      "\n",
      "Covar of B and C \n",
      " [[ 0.29603393  0.40667436]\n",
      " [ 0.40667436  3.25228102]] \n",
      "\n",
      "Coef of B and D \n",
      " [[ 1.          0.39465887]\n",
      " [ 0.39465887  1.        ]] \n",
      "\n",
      "Covar of B and D \n",
      " [[   0.29603393    2.24345984]\n",
      " [   2.24345984  109.15694407]] \n",
      "\n",
      "Coef of C and A \n",
      " [[ 1.          0.95412407]\n",
      " [ 0.95412407  1.        ]] \n",
      "\n",
      "Covar of C and A \n",
      " [[ 3.25228102  2.84560667]\n",
      " [ 2.84560667  2.73496624]] \n",
      "\n",
      "Coef of C and B \n",
      " [[ 1.          0.41445942]\n",
      " [ 0.41445942  1.        ]] \n",
      "\n",
      "Covar of C and B \n",
      " [[ 3.25228102  0.40667436]\n",
      " [ 0.40667436  0.29603393]] \n",
      "\n",
      "Coef of C and D \n",
      " [[ 1.          0.99643417]\n",
      " [ 0.99643417  1.        ]] \n",
      "\n",
      "Covar of C and D \n",
      " [[   3.25228102   18.77449789]\n",
      " [  18.77449789  109.15694407]] \n",
      "\n",
      "Coef of D and A \n",
      " [[ 1.          0.95674997]\n",
      " [ 0.95674997  1.        ]] \n",
      "\n",
      "Covar of D and A \n",
      " [[ 109.15694407   16.53103805]\n",
      " [  16.53103805    2.73496624]] \n",
      "\n",
      "Coef of D and B \n",
      " [[ 1.          0.39465887]\n",
      " [ 0.39465887  1.        ]] \n",
      "\n",
      "Covar of D and B \n",
      " [[ 109.15694407    2.24345984]\n",
      " [   2.24345984    0.29603393]] \n",
      "\n",
      "Coef of D and C \n",
      " [[ 1.          0.99643417]\n",
      " [ 0.99643417  1.        ]] \n",
      "\n",
      "Covar of D and C \n",
      " [[ 109.15694407   18.77449789]\n",
      " [  18.77449789    3.25228102]] \n",
      "\n"
     ]
    }
   ],
   "source": [
    "temp = [A,B,C,D] # Create temp list to hold 4 columns\n",
    "\n",
    "tempName = ['A','B','C','D'] # Create tempName list to hold the 4 columns names\n",
    "    \n",
    "for i in range(len(temp)): # Pick the first var looping through the temp list \n",
    "    \n",
    "    for j in range(len(temp)): # Pick the second  var looping through the temp list\n",
    "        \n",
    "        if i!= j: # If the two vars are not the same\n",
    "            \n",
    "            # Print out the correlation coefficient and covariances between the two vars\n",
    "            # TO-DO !! Need to print out if symmetric or not\n",
    "            print ('Coef of %s and %s \\n' % (tempName[i],tempName[j]),np.corrcoef(temp[i],temp[j]),'\\n')\n",
    "            print ('Covar of %s and %s \\n' % (tempName[i],tempName[j]),np.cov(temp[i],temp[j]),'\\n')\n"
   ]
  },
  {
   "cell_type": "markdown",
   "metadata": {},
   "source": [
    "## Problem 2"
   ]
  },
  {
   "cell_type": "markdown",
   "metadata": {},
   "source": [
    "####Problem 2a\n",
    "Draw 30 samples from a Poisson distribution with lambda = 7  using random seed 123456789."
   ]
  },
  {
   "cell_type": "code",
   "execution_count": 12,
   "metadata": {
    "collapsed": false
   },
   "outputs": [],
   "source": [
    "np.random.seed(123456789) # generate data by using the seed 123456789\n",
    "\n",
    "posonRand = np.random.poisson(7,30) # Genrate posonRand which is a poisson dist list of lam 7, size 30\n"
   ]
  },
  {
   "cell_type": "markdown",
   "metadata": {},
   "source": [
    "#### Problem 2b\n",
    "Define two functions to compute the mean and median.  That is, do not call the mean or median function, but write the code.  "
   ]
  },
  {
   "cell_type": "code",
   "execution_count": 9,
   "metadata": {
    "collapsed": false
   },
   "outputs": [],
   "source": [
    "\"\"\"\n",
    "Function\n",
    "--------\n",
    "Mean\n",
    "\n",
    "Return an integer that is the computed\n",
    "arithmetic mean of the input array\n",
    "\n",
    "Parameters\n",
    "----------\n",
    "values : array[int]\n",
    "    The array of values\n",
    "\n",
    "Returns\n",
    "-------\n",
    "an int\n",
    "   an integer that is the computed \n",
    "   arithmetic mean\n",
    "\n",
    "Example\n",
    "-------\n",
    ">>> mean([1,2,3,4,5])\n",
    "\"\"\"\n",
    "\n",
    "def mean(array): # Declare function called mean, taking input array\n",
    "    \n",
    "    res = np.mean(array) # Compute the arithmetic mean of the array\n",
    "    \n",
    "    return res # Return the result\n",
    "\n",
    "\n",
    "    "
   ]
  },
  {
   "cell_type": "code",
   "execution_count": 14,
   "metadata": {
    "collapsed": false
   },
   "outputs": [],
   "source": [
    "\"\"\"\n",
    "Function\n",
    "--------\n",
    "Median\n",
    "\n",
    "Return an integer that is the computed\n",
    "arithmetic median of the input array\n",
    "\n",
    "Parameters\n",
    "----------\n",
    "values : array[int]\n",
    "    The array of values\n",
    "\n",
    "Returns\n",
    "-------\n",
    "an int\n",
    "   an integer that is the computed \n",
    "   arithmetic median\n",
    "\n",
    "Example\n",
    "-------\n",
    ">>> median([1,2,3,4,5])\n",
    "\"\"\"\n",
    "\n",
    "def median(array): # Declare function called mean, taking input array\n",
    "    \n",
    "    res = np.median(array) # Compute the arithmetic mean of the array\n",
    "    \n",
    "    return res # Return the result\n",
    "\n"
   ]
  },
  {
   "cell_type": "markdown",
   "metadata": {},
   "source": [
    "####Problem 2c\n",
    "Use the functions you just defined to calculate the mean and median of the samples collected in problem 2a.  Is the distribution of values skewed left, right, or neither? Is it skewed positive, negative, or neither?"
   ]
  },
  {
   "cell_type": "code",
   "execution_count": 15,
   "metadata": {
    "collapsed": false
   },
   "outputs": [
    {
     "name": "stdout",
     "output_type": "stream",
     "text": [
      "Mean of samples in problem 2a is 6.53\n",
      "Median of samples in problem 2a is 6.5\n"
     ]
    }
   ],
   "source": [
    "\n",
    "print ('Mean of samples in problem 2a is %.2f' % mean(posonRand)) #Print the mean of samples in 2a\n",
    "\n",
    "print('Median of samples in problem 2a is %s' % median(posonRand)) #Print the median of samples in 2a\n",
    "\n",
    "### The distribution skews right, and it is skewed negative."
   ]
  },
  {
   "cell_type": "markdown",
   "metadata": {},
   "source": [
    "## Problem 3\n",
    "Over the course of a two week period, my mailman delivered [5, 3, 4, 3, 6, 7, 2, 2, 3] pieces of mail each weekday.  On the last Friday, I received no mail.  My theory is that he took the day off.  "
   ]
  },
  {
   "cell_type": "markdown",
   "metadata": {},
   "source": [
    "####Problem 3a\n",
    "Assuming a normal distribution from the first 9 days, what is the probability of receiving no mail on that last Friday?   (Don’t overthink this problem)  "
   ]
  },
  {
   "cell_type": "code",
   "execution_count": 20,
   "metadata": {
    "collapsed": false
   },
   "outputs": [
    {
     "name": "stdout",
     "output_type": "stream",
     "text": [
      " The probability of receiving no mail on last Friday is 0.015578\n"
     ]
    }
   ],
   "source": [
    "m = mean([5, 3, 4, 3, 6, 7, 2, 2, 3]) # mean of the mail delivery of 9 days\n",
    "\n",
    "std = np.std([5, 3, 4, 3, 6, 7, 2, 2, 3])  # stand deviation of the mail delivery of 9 days\n",
    "\n",
    "# Use scipy.stats module to compute the probability at 0 given the normal distribution\n",
    "print (' The probability of receiving no mail on last Friday is %f' % ss.norm(m,std).pdf(0)) \n",
    "\n"
   ]
  },
  {
   "cell_type": "markdown",
   "metadata": {},
   "source": [
    "#### Problem 3b\n",
    "Are there any issues with using a normal distribution for this problem?"
   ]
  },
  {
   "cell_type": "markdown",
   "metadata": {},
   "source": [
    "**Response:**"
   ]
  },
  {
   "cell_type": "code",
   "execution_count": null,
   "metadata": {
    "collapsed": true
   },
   "outputs": [],
   "source": [
    "## There are several issues using normal distributions for this problem"
   ]
  },
  {
   "cell_type": "markdown",
   "metadata": {},
   "source": [
    "## Problem 4\n",
    "Alzheimer’s Disease is a terrible affliction affecting 5.3 million of the 319 million people in this country and is the only top-10 cause of death in this country that cannot be prevented, cured, or slowed (www.alz.org/facts).   Researchers have developed a new method for predicting Alzheimer’s, but like most medical tests, it is not perfect.  "
   ]
  },
  {
   "cell_type": "markdown",
   "metadata": {},
   "source": [
    "If a patient has Alzheimer’s there is a 75% chance of a positive prediction.  If they don’t have Alzheimer’s the chance of a positive prediction is 20%.   Compute the probability of having Alzheimer’s if the prediction is positive.  Show your work."
   ]
  },
  {
   "cell_type": "code",
   "execution_count": 20,
   "metadata": {
    "collapsed": false
   },
   "outputs": [
    {
     "name": "stdout",
     "output_type": "stream",
     "text": [
      "The probability of having Alzheimer if prediction is postive is 0.0586\n"
     ]
    }
   ],
   "source": [
    "Prate = 5.3/319 # Prevalance rate = (TP+PN)/(TP+PN+FP+TN) Alzheimer's disease in population \n",
    "\n",
    "Specificity = 1 - 0.2 # Probability of a non-patient diagnosed as negative = TN/(FP+TN)\n",
    "\n",
    "Sensitivity = 0.75 # Probability of an patient diagnosed as positive = TP(TP+FN)\n",
    "\n",
    "Diseased = 100 # Suppose there are 100 diseased people\n",
    "\n",
    "TP = Diseased * Sensitivity # There are 75 diseased people diagnosed as patient\n",
    "\n",
    "NonDiseased = 100 / Prate # Nondiseased people will be huge in this case 6250 because it is a rare disease\n",
    "\n",
    "FP = NonDiseased * (1- Specificity) # There are 1250 people who don't have disease but diagnosed as patient\n",
    "\n",
    "PosPredictive = TP/(TP+FP) # Postive predicative rate is 0.0586\n",
    "\n",
    "print ('The probability of having Alzheimer if prediction is postive is %.4f' % PosPredictive) # Print the result"
   ]
  },
  {
   "cell_type": "markdown",
   "metadata": {},
   "source": [
    "## Problem 5\n",
    "Given the matrices below, compute (A + B’)\\*C"
   ]
  },
  {
   "cell_type": "markdown",
   "metadata": {},
   "source": [
    "<img src='hw1p5.png'>"
   ]
  },
  {
   "cell_type": "code",
   "execution_count": 7,
   "metadata": {
    "collapsed": false
   },
   "outputs": [
    {
     "name": "stdout",
     "output_type": "stream",
     "text": [
      "[[4 6]\n",
      " [5 5]\n",
      " [5 3]]\n",
      "[[16]\n",
      " [15]\n",
      " [11]]\n"
     ]
    }
   ],
   "source": [
    "A = np.matrix(((1,2),(3,4),(2,2))) # Matrix A\n",
    "\n",
    "B = np.matrix(((3,2,3),(4,1,1))) # Matrix B\n",
    "\n",
    "C = np.matrix(((1,2))).transpose() # Matrix C\n",
    "\n",
    "B_T = B.transpose() # Tranpose Matrix B\n",
    "\n",
    "print ((A+B_T)*C) # Print the computed (A + B’)*C"
   ]
  },
  {
   "cell_type": "markdown",
   "metadata": {},
   "source": [
    "## Problem 6\n",
    "The Monty Hall problem as discussed in lecture came from a popular game show—this is a variation since I recently learned the same problem was covered in the Data Science course.   The contestant is faced with a choice of **7** doors.  Behind **5** of the doors, there is a goat; a car lies behind the other **2** doors.  The contestant chooses one door but cannot look behind it.  The host opens two of the other doors.  The choice is whether the contestant should keep the initial choice or switch to one of the other closed doors.  Simulate this using python code over 1000 iterations.  Without loss of generality, you can assume that the contestant choice is always door A.  The position of the cars is random with each iteration.   Compute the chance of winning with each strategy:  keeping the initial choice, or switching doors."
   ]
  },
  {
   "cell_type": "code",
   "execution_count": 5,
   "metadata": {
    "collapsed": false
   },
   "outputs": [
    {
     "name": "stdout",
     "output_type": "stream",
     "text": [
      "Changing has 294 wins and 706 losses\n",
      "Staying has 268 wins and 732 losses\n",
      "By changing you win 29.400 of the time\n",
      "By staying you win 26.800 of the time\n"
     ]
    }
   ],
   "source": [
    "import random\n",
    "\n",
    "iterations = 1000 # 1000 iterations\n",
    "\n",
    "doors = [\"goat\"] * 5 + [\"car\"] * 2 # The first unopen 7 doors with 5 goats, 2 cars\n",
    "\n",
    "doors_after = [\"goat\"] * 3 + [\"car\"] * 2 # The 5 left unopen doors after Monty opens 2 goats door\n",
    "\n",
    "change_wins = 0 # Counts of change wins\n",
    "\n",
    "change_loses = 0 # Counts of change loese\n",
    "\n",
    "stay_wins = 0 # Counts of stay wins\n",
    "\n",
    "stay_loses = 0 # Counts of stay loses\n",
    "\n",
    "for i in range(iterations): # Simulate in each of the iterations\n",
    "    \n",
    "    random.shuffle(doors) # Shuffle the 7 doors\n",
    "    \n",
    "    random.shuffle(doors_after) # Shuffle the 5 doors\n",
    "    \n",
    "    n = random.randrange(7) # Pick door n:\n",
    "    \n",
    "    m = random.randrange(5)  # If change door, pick door m\n",
    "    \n",
    "    if doors[n] == \"car\": # If the first pick n door has car\n",
    "        \n",
    "        change_loses += 1 # Then change loses\n",
    "        \n",
    "        stay_wins += 1 # Stay wins\n",
    "        \n",
    "    \n",
    "    elif doors_after[m] == \"car\": # If change and the picked door m has car\n",
    "        \n",
    "        change_wins += 1 # Then change wins\n",
    "        \n",
    "        stay_loses += 1 # Then stay loses\n",
    "\n",
    "        \n",
    "    else: # Else if either door n or door m has cars\n",
    "        \n",
    "        change_loses += 1 # Then change loses\n",
    "        \n",
    "        stay_loses += 1 # Then stay also loses\n",
    "\n",
    "print (\"Changing has %s wins and %s losses\" % (change_wins, change_loses)) # Print strategy of change results\n",
    "\n",
    "print (\"Staying has %s wins and %s losses\" % (stay_wins, stay_loses)) # Print strategy of stay results\n",
    "\n",
    "perc_c = (100.0 * change_wins) / (change_wins + change_loses) # Compute winning chance in strategy of change\n",
    "\n",
    "print (\"By changing you win %.3f of the time\" % perc_c) # Print winning chance in strategy of change\n",
    "\n",
    "perc_s = (100.0 * stay_wins) / (stay_wins + stay_loses) # Compute winning chance in strategy of stay\n",
    "\n",
    "print (\"By staying you win %.3f of the time\" % perc_s)  # Print winning chance in strategy of stay"
   ]
  },
  {
   "cell_type": "code",
   "execution_count": null,
   "metadata": {
    "collapsed": true
   },
   "outputs": [],
   "source": []
  },
  {
   "cell_type": "code",
   "execution_count": null,
   "metadata": {
    "collapsed": true
   },
   "outputs": [],
   "source": []
  },
  {
   "cell_type": "code",
   "execution_count": null,
   "metadata": {
    "collapsed": true
   },
   "outputs": [],
   "source": []
  }
 ],
 "metadata": {
  "kernelspec": {
   "display_name": "Python 3",
   "language": "python",
   "name": "python3"
  },
  "language_info": {
   "codemirror_mode": {
    "name": "ipython",
    "version": 3
   },
   "file_extension": ".py",
   "mimetype": "text/x-python",
   "name": "python",
   "nbconvert_exporter": "python",
   "pygments_lexer": "ipython3",
   "version": "3.4.3"
  }
 },
 "nbformat": 4,
 "nbformat_minor": 0
}
